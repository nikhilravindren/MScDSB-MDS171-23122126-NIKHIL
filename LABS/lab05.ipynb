{
 "cells": [
  {
   "cell_type": "code",
   "execution_count": 1,
   "metadata": {},
   "outputs": [
    {
     "name": "stdout",
     "output_type": "stream",
     "text": [
      "['F', 'A', 'T', 'H', 'I', 'M', 'A']\n",
      "3\n",
      "['A', 'I'] \n",
      " [2, 1]\n",
      "42.857142857142854 %\n"
     ]
    }
   ],
   "source": [
    "#take input fro user and make it upper case,change it into list\n",
    "string = input(\"enter the string: \").strip().upper()\n",
    "list1 =list(string)\n",
    "print(list1)\n",
    "#create a vowel list\n",
    "vlist = [\"A\",\"E\",\"I\",\"O\",\"U\"]\n",
    "#create a function to return number of vowels\n",
    "def count_v(list1,vlist):\n",
    "    count =0\n",
    "    for item in list1:\n",
    "        if item in vlist:\n",
    "            count +=1\n",
    "    return count\n",
    "#call the function\n",
    "a =count_v(list1,vlist)\n",
    "print(a)\n",
    "#def function for making list for vowels and thier corresponding count\n",
    "def all_vowel(list1,vlist):\n",
    "    vowellist = []\n",
    "    vowelcount = []\n",
    "    for item in list1:\n",
    "        if item in vlist:\n",
    "            tem = item\n",
    "            if tem in vowellist:\n",
    "                inx =vowellist.index(tem)\n",
    "                vowelcount[inx] = vowelcount[inx] + 1\n",
    "            else:\n",
    "                vowellist.append(tem)\n",
    "                vowelcount.append(1)\n",
    "    print(vowellist,\"\\n\",vowelcount)\n",
    "#call the function\n",
    "all_vowel(list1,vlist)\n",
    "#def another function for finding percentage of vowels\n",
    "def percentagev(list1,a):\n",
    "    percentage =(a/len(list1))*100\n",
    "    return percentage\n",
    "#call the function\n",
    "print(percentagev(list1,a),\"%\")\n",
    "\n",
    "\n",
    "\n",
    "\n"
   ]
  },
  {
   "cell_type": "code",
   "execution_count": null,
   "metadata": {},
   "outputs": [],
   "source": []
  }
 ],
 "metadata": {
  "kernelspec": {
   "display_name": "Python 3",
   "language": "python",
   "name": "python3"
  },
  "language_info": {
   "codemirror_mode": {
    "name": "ipython",
    "version": 3
   },
   "file_extension": ".py",
   "mimetype": "text/x-python",
   "name": "python",
   "nbconvert_exporter": "python",
   "pygments_lexer": "ipython3",
   "version": "3.11.4"
  },
  "orig_nbformat": 4
 },
 "nbformat": 4,
 "nbformat_minor": 2
}
