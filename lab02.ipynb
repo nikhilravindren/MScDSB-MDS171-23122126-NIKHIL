{
 "cells": [
  {
   "cell_type": "code",
   "execution_count": 137,
   "metadata": {},
   "outputs": [
    {
     "name": "stdout",
     "output_type": "stream",
     "text": [
      "12one\n"
     ]
    }
   ],
   "source": [
    "num = input(\"enter the number: \")\n",
    "list = []\n",
    "n = len(num)\n",
    "num1 = int(num)\n",
    "for i in range(n):\n",
    "    s= num1%10\n",
    "    list.append(s)\n",
    "    num1 =num1//10\n",
    "list.reverse()\n",
    "\n",
    "def fun(list,n):\n",
    "     for i in range(len(list)):\n",
    "          if list[i] == 0:\n",
    "             return \"zero\"\n",
    "          elif list[i] == 1:\n",
    "               return \"one\"\n",
    "          elif list[i] == 2:\n",
    "               return \"two\"\n",
    "          elif list[i] == 3:\n",
    "               return \"three\"\n",
    "          elif list[i] ==4:\n",
    "               return \"four\"\n",
    "          elif list[i] == 5:\n",
    "               return \"five\"\n",
    "          elif list[i] == 6:\n",
    "               return \"six\"\n",
    "          elif list[i] == 7:\n",
    "               return \"seven\"\n",
    "          elif list[i] == 8:\n",
    "               return \"eight\"\n",
    "          else:\n",
    "               return\"nine\"\n",
    "               \n",
    "     \n",
    "print(num+str(fun(list,n)))"
   ]
  },
  {
   "cell_type": "code",
   "execution_count": 64,
   "metadata": {},
   "outputs": [
    {
     "name": "stdout",
     "output_type": "stream",
     "text": [
      "['zero']\n"
     ]
    }
   ],
   "source": [
    "list = []\n",
    "list.append(\"zero\")\n",
    "print(list)"
   ]
  },
  {
   "cell_type": "code",
   "execution_count": 128,
   "metadata": {},
   "outputs": [
    {
     "data": {
      "text/plain": [
       "'12OneTwo'"
      ]
     },
     "execution_count": 128,
     "metadata": {},
     "output_type": "execute_result"
    }
   ],
   "source": [
    "n = int(input(\"Number of places\"))\n",
    "val = str(input(\"Enter the Value\"))\n",
    "\n",
    "def readVal(val,n):\n",
    "    str = val\n",
    "    for i in range(0,n):\n",
    "        if val[i] =='0':\n",
    "            str= str +\"Zero\"\n",
    "        elif val[i] =='1':\n",
    "            str= str +\"One\"\n",
    "        elif val[i] =='2':\n",
    "            str= str +\"Two\"\n",
    "        elif val[i] =='3':\n",
    "            str= str +\"Three\"\n",
    "        elif val[i] =='4':\n",
    "            str= str +\"Four\"\n",
    "        elif val[i] =='5':\n",
    "            str= str +\"Five\"\n",
    "        elif val[i] =='6':\n",
    "            str= str +\"Six\"\n",
    "        elif val[i] =='7':\n",
    "            str= str +\"Seven\"\n",
    "        elif val[i] =='8':\n",
    "            str= str +\"Eight\"\n",
    "        else:\n",
    "            str= str +\"Nine\"\n",
    "    return str\n",
    "readVal(val,n)"
   ]
  },
  {
   "cell_type": "code",
   "execution_count": 66,
   "metadata": {},
   "outputs": [
    {
     "name": "stdout",
     "output_type": "stream",
     "text": [
      "123456789OneTwoThreeFourFiveSixSevenEightNine"
     ]
    }
   ],
   "source": [
    "n=input(\"Enter the number: \")\n",
    "def fun(n):\n",
    "    list_n=list(n)\n",
    "    for i in list_n:\n",
    "        i=int(i)\n",
    "        if i==0:\n",
    "            print(\"Zero\", end=\"\")\n",
    "        elif i==1:\n",
    "            print(\"One\" , end=\"\")\n",
    "        elif i==2:\n",
    "            print(\"Two\", end=\"\")\n",
    "        elif i==3:\n",
    "            print(\"Three\", end=\"\")\n",
    "        elif i==4:\n",
    "            print(\"Four\",end=\"\")\n",
    "        elif i==5:\n",
    "            print(\"Five\", end=\"\")\n",
    "        elif i==6:\n",
    "            print(\"Six\",end=\"\")\n",
    "        elif i==7:\n",
    "            print(\"Seven\" , end=\"\")\n",
    "        elif i==8:\n",
    "            print(\"Eight\",end=\"\")\n",
    "        elif i==9:\n",
    "            print(\"Nine\", end=\"\")\n",
    "print(n,end=\"\")\n",
    "fun(n)\n",
    "\n",
    "\n",
    "\n",
    "\n",
    "    "
   ]
  },
  {
   "cell_type": "code",
   "execution_count": 20,
   "metadata": {},
   "outputs": [
    {
     "name": "stdout",
     "output_type": "stream",
     "text": [
      "0zero\n"
     ]
    }
   ],
   "source": [
    "def digit_to_word(d):\n",
    "    digit_words = [\"zero\", \"one\", \"two\", \"three\", \"four\", \"five\", \"six\", \"seven\", \"eight\", \"nine\"]\n",
    "    return digit_words[d]\n",
    "\n",
    "num = input(\"Enter the number: \")\n",
    "digits_list = [int(digit) for digit in num]\n",
    "\n",
    "word_representation = [digit_to_word(d) for d in digits_list]\n",
    "word_representation_str = \"\".join(word_representation)\n",
    "\n",
    "print(num+word_representation_str)\n"
   ]
  },
  {
   "cell_type": "code",
   "execution_count": null,
   "metadata": {},
   "outputs": [],
   "source": []
  }
 ],
 "metadata": {
  "kernelspec": {
   "display_name": "Python 3",
   "language": "python",
   "name": "python3"
  },
  "language_info": {
   "codemirror_mode": {
    "name": "ipython",
    "version": 3
   },
   "file_extension": ".py",
   "mimetype": "text/x-python",
   "name": "python",
   "nbconvert_exporter": "python",
   "pygments_lexer": "ipython3",
   "version": "3.11.4"
  },
  "orig_nbformat": 4
 },
 "nbformat": 4,
 "nbformat_minor": 2
}
