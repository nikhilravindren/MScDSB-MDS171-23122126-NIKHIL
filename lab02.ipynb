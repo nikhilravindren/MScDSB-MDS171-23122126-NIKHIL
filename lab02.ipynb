{
 "cells": [
  {
   "cell_type": "code",
   "execution_count": 113,
   "metadata": {},
   "outputs": [
    {
     "name": "stdout",
     "output_type": "stream",
     "text": [
      "[1, 2, 3]\n",
      "one\n",
      "two\n",
      "None\n"
     ]
    }
   ],
   "source": [
    "num = input(\"enter the number: \")\n",
    "list = []\n",
    "n = len(num)\n",
    "num1 = int(num)\n",
    "for i in range(n):\n",
    "    s= num1%10\n",
    "    list.append(s)\n",
    "    num1 =num1//10\n",
    "list.reverse()\n",
    "\n",
    "print(list)\n",
    "\n",
    "def fun(list,n):\n",
    "     for i in range(0,len(list)-1,1):\n",
    "          if list[i] == 0:\n",
    "               print(\"Zero\")\n",
    "          elif list[i] == 1:\n",
    "               print(\"one\")\n",
    "          elif list[i] == 2:\n",
    "               print(\"two\")\n",
    "          elif list[i] == 3:\n",
    "               print(\"three\")\n",
    "          elif list[i] ==4:\n",
    "               print(\"four\")\n",
    "          elif list[i] == 5:\n",
    "               print(\"five\")\n",
    "          elif list[i] == 6:\n",
    "               print(\"six\")\n",
    "          elif list[i] == 7:\n",
    "               print(\"seven\")\n",
    "          elif list[i] == 8:\n",
    "               print(\"eight\")\n",
    "          else:\n",
    "               print(\"nine\")\n",
    "               \n",
    "     \n",
    "print(fun(list,n))"
   ]
  },
  {
   "cell_type": "code",
   "execution_count": 64,
   "metadata": {},
   "outputs": [
    {
     "name": "stdout",
     "output_type": "stream",
     "text": [
      "['zero']\n"
     ]
    }
   ],
   "source": [
    "list = []\n",
    "list.append(\"zero\")\n",
    "print(list)"
   ]
  },
  {
   "cell_type": "code",
   "execution_count": 33,
   "metadata": {},
   "outputs": [
    {
     "data": {
      "text/plain": [
       "'43FourThree'"
      ]
     },
     "execution_count": 33,
     "metadata": {},
     "output_type": "execute_result"
    }
   ],
   "source": [
    "n = int(input(\"Number of places\"))\n",
    "val = str(input(\"Enter the Value\"))\n",
    "\n",
    "def readVal(val,n):\n",
    "    str = val\n",
    "    for i in range(0,n):\n",
    "        if val[i] =='0':\n",
    "            str= str +\"Zero\"\n",
    "        elif val[i] =='1':\n",
    "            str= str +\"One\"\n",
    "        elif val[i] =='2':\n",
    "            str= str +\"Two\"\n",
    "        elif val[i] =='3':\n",
    "            str= str +\"Three\"\n",
    "        elif val[i] =='4':\n",
    "            str= str +\"Four\"\n",
    "        elif val[i] =='5':\n",
    "            str= str +\"Five\"\n",
    "        elif val[i] =='6':\n",
    "            str= str +\"Six\"\n",
    "        elif val[i] =='7':\n",
    "            str= str +\"Seven\"\n",
    "        elif val[i] =='8':\n",
    "            str= str +\"Eight\"\n",
    "        else:\n",
    "            str= str +\"Nine\"\n",
    "    return str\n",
    "readVal(val,n)"
   ]
  },
  {
   "cell_type": "code",
   "execution_count": 86,
   "metadata": {},
   "outputs": [
    {
     "name": "stdout",
     "output_type": "stream",
     "text": [
      "12\n",
      "one\n",
      "two\n"
     ]
    }
   ],
   "source": [
    "list=['one','two','three','four','five','six','seven','eight','nine']\n",
    "n=input(\"Enter the number: \")\n",
    "print(n)\n",
    "for i in range(len(n)):\n",
    "    "
   ]
  },
  {
   "cell_type": "code",
   "execution_count": null,
   "metadata": {},
   "outputs": [],
   "source": []
  }
 ],
 "metadata": {
  "kernelspec": {
   "display_name": "Python 3",
   "language": "python",
   "name": "python3"
  },
  "language_info": {
   "codemirror_mode": {
    "name": "ipython",
    "version": 3
   },
   "file_extension": ".py",
   "mimetype": "text/x-python",
   "name": "python",
   "nbconvert_exporter": "python",
   "pygments_lexer": "ipython3",
   "version": "3.11.4"
  },
  "orig_nbformat": 4
 },
 "nbformat": 4,
 "nbformat_minor": 2
}
