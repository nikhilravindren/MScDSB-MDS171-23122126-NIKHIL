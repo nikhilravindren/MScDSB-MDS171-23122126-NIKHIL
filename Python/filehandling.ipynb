{
 "cells": [
  {
   "cell_type": "code",
   "execution_count": 96,
   "metadata": {},
   "outputs": [],
   "source": [
    "file =open(\"sample.txt\",\"w+\")"
   ]
  },
  {
   "cell_type": "code",
   "execution_count": 103,
   "metadata": {},
   "outputs": [
    {
     "data": {
      "text/plain": [
       "19"
      ]
     },
     "execution_count": 103,
     "metadata": {},
     "output_type": "execute_result"
    }
   ],
   "source": [
    "file.write(\"this is what it is\\n\")"
   ]
  },
  {
   "cell_type": "code",
   "execution_count": 108,
   "metadata": {},
   "outputs": [],
   "source": [
    "file.close()"
   ]
  },
  {
   "cell_type": "code",
   "execution_count": 111,
   "metadata": {},
   "outputs": [
    {
     "data": {
      "text/plain": [
       "['this is what it is\\n',\n",
       " 'this is what it is\\n',\n",
       " 'this is what it is\\n',\n",
       " 'this is what it is\\n',\n",
       " 'this is what it is\\n',\n",
       " 'this is what it is\\n',\n",
       " 'this is what it is\\n']"
      ]
     },
     "execution_count": 111,
     "metadata": {},
     "output_type": "execute_result"
    }
   ],
   "source": [
    "file = open(\"sample.txt\")\n",
    "file.readlines()"
   ]
  },
  {
   "cell_type": "code",
   "execution_count": 2,
   "metadata": {},
   "outputs": [],
   "source": [
    "def savedetails(name,email,phone):\n",
    "    filename = name + \".txt\"\n",
    "    with open(filename, \"w+\") as file:\n",
    "        file.write(\"name\\t:\\t\"+ name)\n",
    "        file.write(\"\\nemail\\t:\\t\" + email)\n",
    "        file.write(\"\\nphone\\t:\\t\" + phone)\n",
    "\n",
    "name = input(\"enter your name \")\n",
    "email = input(\"enter your email \")\n",
    "phone = input(\"enter your phone no:\")\n",
    "\n",
    "savedetails(name,email,phone)"
   ]
  },
  {
   "cell_type": "code",
   "execution_count": 3,
   "metadata": {},
   "outputs": [
    {
     "data": {
      "text/plain": [
       "['name\\t:\\tnikhil\\n',\n",
       " 'email\\t:\\tnikhilravindren01@gmail.com\\n',\n",
       " 'phone\\t:\\t8590887489']"
      ]
     },
     "execution_count": 3,
     "metadata": {},
     "output_type": "execute_result"
    }
   ],
   "source": [
    "file = open(\"nikhil.txt\")\n",
    "file.readlines()"
   ]
  },
  {
   "cell_type": "code",
   "execution_count": 38,
   "metadata": {},
   "outputs": [
    {
     "name": "stdout",
     "output_type": "stream",
     "text": [
      "9\n"
     ]
    }
   ],
   "source": [
    "num1 = int(input(\"enter first number : \"))\n",
    "num2 = int(input(\"enter second number : \"))\n",
    "operator =input(\"which operation? \")\n",
    "\n",
    "a = str(dooperation(num1,num2,operator))\n",
    "print(a)\n",
    "\n",
    "\n",
    "\n",
    "\n",
    "def dooperation(num1,num2,operator):\n",
    "    operaters = [\"+\",\"-\",\"*\",\"/\"]\n",
    "    if operator == operaters[0]:\n",
    "        a=num1+num2\n",
    "        return a\n",
    "    elif operator == operaters[1]:\n",
    "        a=num1+num2\n",
    "        return a\n",
    "    elif operator == operaters[2]:\n",
    "        a=num1+num2\n",
    "        return a\n",
    "    elif operator == operaters[3]:\n",
    "        a=num1+num2\n",
    "        return a\n",
    "\n",
    "def savedetails(num1,num2,operator,a):\n",
    "    filename = \"calculation\" + \".txt\"\n",
    "    with open(filename, \"a+\") as file:\n",
    "        file.write(\"num1\\t:\\t\" + str(num1))\n",
    "        file.write(\"\\nnum2\\t:\\t\" + str(num2))\n",
    "        file.write(\"\\noperator\\t:\\t\" + operator)\n",
    "        file.write(\"\\nresult\\t:\\t\" + a)\n",
    "        file.write(\"\\n.........................\\n\")\n",
    "savedetails(num1,num2,operator,a)\n",
    "\n",
    "\n"
   ]
  },
  {
   "cell_type": "code",
   "execution_count": 8,
   "metadata": {},
   "outputs": [],
   "source": [
    "name = input(\"your name ? \")\n",
    "item = input(\"what you want? \")\n",
    "quty = input(\"how much in kg: \")\n",
    "price =input(\"totel price: \")\n",
    "\n",
    "def order(name,item,quty,price):\n",
    "    file1 = \"orders\"+\".csv\"\n",
    "    with open(file1,\"a+\") as file:\n",
    "        file.write(name+\",\"+item+\",\"+quty+\",\"+price+\"\\n\")\n",
    "    \n",
    "order(name,item,quty,price)\n",
    "\n",
    "\n"
   ]
  },
  {
   "cell_type": "code",
   "execution_count": 23,
   "metadata": {},
   "outputs": [
    {
     "name": "stdout",
     "output_type": "stream",
     "text": [
      "dal\n"
     ]
    }
   ],
   "source": [
    "mostorder(item_name,item_count)"
   ]
  },
  {
   "cell_type": "code",
   "execution_count": 10,
   "metadata": {},
   "outputs": [
    {
     "name": "stdout",
     "output_type": "stream",
     "text": [
      "['rice', 'dal', 'chiken']\n",
      "[2, 3, 1]\n"
     ]
    }
   ],
   "source": [
    "file = open(\"orders.csv\",\"r+\")\n",
    "lines = file.readlines()\n",
    "\n",
    "item_name = []\n",
    "item_count = []\n",
    "for item in lines:\n",
    "    a = item.split(\",\") \n",
    "    itemname = a[1]\n",
    "    if itemname in item_name:\n",
    "        inx = item_name.index(itemname)\n",
    "        item_count[inx] += 1\n",
    "    else:\n",
    "        item_name.append(itemname)\n",
    "        item_count.append(1)\n",
    "\n",
    "print(item_name)\n",
    "print(item_count)\n"
   ]
  },
  {
   "cell_type": "code",
   "execution_count": 22,
   "metadata": {},
   "outputs": [
    {
     "name": "stdout",
     "output_type": "stream",
     "text": [
      "dal\n"
     ]
    }
   ],
   "source": [
    "def mostorder(item_name,item_count):\n",
    "    A = item_count.index(max(item_count))\n",
    "    print(item_name[A])\n",
    "\n"
   ]
  },
  {
   "cell_type": "code",
   "execution_count": 2,
   "metadata": {},
   "outputs": [],
   "source": [
    "my_list = [\n",
    "    {\"name\": \"Alice\", \"age\": 30, \"city\": \"New York\", \"details\": {\"hobby\": \"Reading\", \"gender\": \"Female\"}},\n",
    "    {\"name\": \"Bob\", \"age\": 25, \"city\": \"Los Angeles\", \"details\": {\"hobby\": \"Gaming\", \"gender\": \"Male\"}},\n",
    "    {\"name\": \"Charlie\", \"age\": 35, \"city\": \"Chicago\", \"details\": {\"hobby\": \"Painting\", \"gender\": \"Male\"}}\n",
    "\n",
    "\n",
    "]"
   ]
  },
  {
   "cell_type": "code",
   "execution_count": 19,
   "metadata": {},
   "outputs": [
    {
     "data": {
      "text/plain": [
       "'Gaming'"
      ]
     },
     "execution_count": 19,
     "metadata": {},
     "output_type": "execute_result"
    }
   ],
   "source": [
    "my_list[1][\"details\"][\"hobby\"]"
   ]
  },
  {
   "cell_type": "code",
   "execution_count": 13,
   "metadata": {},
   "outputs": [
    {
     "data": {
      "text/plain": [
       "'dog'"
      ]
     },
     "execution_count": 13,
     "metadata": {},
     "output_type": "execute_result"
    }
   ],
   "source": [
    "my_dict = {\n",
    "    'fruits': ['apple', 'banana', 'orange'],\n",
    "    'animals': ['cat', 'dog', 'elephant'],\n",
    "    'colors': ['red', 'blue', 'green']\n",
    "}\n",
    "\n",
    "my_dict[\"animals\"][1]"
   ]
  },
  {
   "cell_type": "code",
   "execution_count": null,
   "metadata": {},
   "outputs": [],
   "source": []
  }
 ],
 "metadata": {
  "kernelspec": {
   "display_name": "Python 3",
   "language": "python",
   "name": "python3"
  },
  "language_info": {
   "codemirror_mode": {
    "name": "ipython",
    "version": 3
   },
   "file_extension": ".py",
   "mimetype": "text/x-python",
   "name": "python",
   "nbconvert_exporter": "python",
   "pygments_lexer": "ipython3",
   "version": "3.11.4"
  },
  "orig_nbformat": 4
 },
 "nbformat": 4,
 "nbformat_minor": 2
}
