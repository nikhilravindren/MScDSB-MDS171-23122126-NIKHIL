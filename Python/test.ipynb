{
 "cells": [
  {
   "cell_type": "code",
   "execution_count": null,
   "metadata": {},
   "outputs": [],
   "source": [
    "class BankAccount:\n",
    "    def __init__(self):\n",
    "        self.balance = {\"Ram\":5000,\"Priya\":400}\n",
    "        \n",
    "        \n",
    "    def deposit1(self,name,deposit):\n",
    "        total = 0\n",
    "        if self.balance[name]>=0:\n",
    "            total += self.balance[name]+deposit\n",
    "            print(total)\n",
    "    def withdraw1(self,name,withdraw):\n",
    "        total = 0\n",
    "        if self.balance[name]>=0:\n",
    "            total = self.balance[name]-withdraw\n",
    "            print(total)\n",
    "\n",
    "\n",
    "account = BankAccount()\n",
    "while True:\n",
    "    print(\"1. To Deposit\")\n",
    "    print(\"2. To Withdraw\")\n",
    "    print(\"3.exit\")\n",
    "    user_input = int(input(\"Enter the choice\"))\n",
    "    if user_input == 1:\n",
    "        Name = input(\"Enter the Name: \")\n",
    "        deposit = int(input(\"Enter the Input\"))\n",
    "        account.deposit1(Name,deposit)\n",
    "    elif user_input == 2:\n",
    "        Name = input(\"Enter the Name: \")\n",
    "        withdraw = int(input(\"Enter the amount to Withdraw\"))\n",
    "        account.withdraw1(Name,withdraw)\n",
    "    elif user_input == 3:\n",
    "        break\n",
    "    else:\n",
    "        print(\"Incorrect Entry\")\n",
    "    "
   ]
  },
  {
   "cell_type": "code",
   "execution_count": null,
   "metadata": {},
   "outputs": [],
   "source": [
    "list1 = [\"nikhil\",\"jeffin\",\"naveen\",\"gokul\",\"naveen\",\"fathima\",\"gokul\",\"ram\",\"gokul\",\"nikhil\"]\n",
    "list2 = []\n",
    "for i in range(len(list1)):\n",
    "    value = False\n",
    "    for j in range(len(list1)):\n",
    "        if i == j:\n",
    "            continue\n",
    "        elif list1[i]==list1[j]:\n",
    "            value = True\n",
    "    if value == False:\n",
    "        list2.append(list1[i])\n",
    "print(list2)\n",
    "    "
   ]
  },
  {
   "cell_type": "code",
   "execution_count": null,
   "metadata": {},
   "outputs": [],
   "source": [
    "import random \n",
    "r1 = random.randint(1,9)\n",
    "r2 = random.randint(0,9)\n",
    "r3 = random.randint(0,9)\n",
    "r4 = random.randint(0,9)\n",
    "r5 = random.randint(0,9)\n",
    "rollnum =str(r1)+str(r2)+str(r3)+str(r4)+str(r5)\n",
    "def save_details(rollnum,name,s1,s2,s3):\n",
    "    sum = s1+s2+s3\n",
    "    with open(\"student.csv\",\"a+\") as file:\n",
    "        file.write(str(sum)+\",\"+name+\",\"+str(s1)+\",\"+str(s2)+\",\"+str(s3)+\",\"+rollnum+\"\\n\")\n",
    "\n",
    "name = input(\"enter your name:\").strip()\n",
    "s1 = int(input(\"enter the mark of 1 st subject:\"))\n",
    "s2 = int(input(\"enter the mark of 2 st subject:\"))\n",
    "s3 = int(input(\"enter the mark of 3 st subject:\"))\n",
    "save_details(rollnum,name,s1,s2,s3)\n"
   ]
  },
  {
   "cell_type": "code",
   "execution_count": null,
   "metadata": {},
   "outputs": [],
   "source": [
    "file = open(\"student.csv\",\"r+\")\n",
    "lines = file.readlines()\n",
    "arry = []\n",
    "for line in lines:\n",
    "    line = line.split(\",\")\n",
    "    arry.append(line)\n",
    "sorted_data = sorted(arry, key=lambda x: int(x[0]))\n",
    "sorted_data.reverse()\n",
    "print(sorted_data)\n",
    "    \n",
    "\n",
    "\n",
    "\n"
   ]
  },
  {
   "cell_type": "code",
   "execution_count": null,
   "metadata": {},
   "outputs": [],
   "source": [
    "n = int(input(\"enter the limit\"))\n",
    "a =0\n",
    "b =1\n",
    "listt = [0,1]\n",
    "for i in range(n):\n",
    "    c = a +b\n",
    "    listt.append(c)\n",
    "    a = b\n",
    "    b =c\n",
    "print(listt)\n",
    "    "
   ]
  },
  {
   "cell_type": "code",
   "execution_count": null,
   "metadata": {},
   "outputs": [],
   "source": [
    "\n",
    "r = int(input(\"enter the no of rows in a matrix: \"))\n",
    "c = int(input(\"Enter the no of columns of the matrix : \"))\n",
    "arr = []\n",
    "for i in range(r):\n",
    "    for j in range(c):\n",
    "        elem = int(input())\n",
    "        arr.append(elem)\n",
    "print(arr)\n",
    "summing =0\n",
    "for i in range(r):\n",
    "    summing = summing+arr[i*c+i]\n",
    "\n",
    "print(summing)\n",
    "\n",
    "\n",
    "\n",
    "\n"
   ]
  },
  {
   "cell_type": "code",
   "execution_count": 1,
   "metadata": {},
   "outputs": [
    {
     "name": "stdout",
     "output_type": "stream",
     "text": [
      "Shortest path:  17\n",
      "Shortest path Length:  ['A', 'C', 'D', 'E', 'F']\n"
     ]
    }
   ],
   "source": [
    "import networkx as nx\n",
    "G = nx.Graph()\n",
    "\n",
    "G.add_node(\"A\")\n",
    "G.add_node(\"B\")\n",
    "G.add_node(\"C\")\n",
    "G.add_node(\"D\")\n",
    "G.add_node(\"E\")\n",
    "G.add_node(\"F\")\n",
    "\n",
    "G.add_edge(\"A\" , \"B\" , weight = 4)\n",
    "G.add_edge(\"A\" , \"C\" , weight = 2)\n",
    "G.add_edge(\"B\" , \"D\" , weight = 6)\n",
    "G.add_edge(\"C\" , \"D\" , weight = 1)\n",
    "G.add_edge(\"D\" , \"E\" , weight = 4)\n",
    "G.add_edge(\"E\" , \"F\" , weight = 10)\n",
    "\n",
    "shortest_path , shortes_path_length = nx.single_source_dijkstra(G , source=\"A\" , target=\"F\" , weight = \"weight\")\n",
    "print(\"Shortest path: \" , shortest_path)\n",
    "print(\"Shortest path Length: \" , shortes_path_length)"
   ]
  },
  {
   "cell_type": "code",
   "execution_count": null,
   "metadata": {},
   "outputs": [],
   "source": [
    "arr = [1,2,3,4,5,6,7,8,9,0]\n",
    "k = 7\n",
    "min = 0\n",
    "max = len(arr)-1\n",
    "if arr[min] == k or arr[max] == k:\n",
    "    print(\"element found\")\n",
    "else:\n",
    "    while  min <= max:\n",
    "        mid = (max + min)//2\n",
    "        if arr[mid] == k:\n",
    "            print(\"element found\")\n",
    "            break\n",
    "        elif arr[mid] < k:\n",
    "            min = mid + 1\n",
    "        elif arr[mid] > k:\n",
    "            max = mid -1\n",
    "    else:\n",
    "        print(\"element not found\")\n"
   ]
  },
  {
   "cell_type": "code",
   "execution_count": 5,
   "metadata": {},
   "outputs": [
    {
     "name": "stdout",
     "output_type": "stream",
     "text": [
      "[1, 2, 4, 5, 6, 6, 7, 8, 8, 9, 10]\n"
     ]
    }
   ],
   "source": [
    "a = [2,6,8,9,4,6,8,1,10,7,5]\n",
    "for i in range(len(a)):\n",
    "    for j in range(i+1,len(a)):\n",
    "        if a[i] <= a[j]:\n",
    "            s = a[i]\n",
    "            a[i] = a[j]\n",
    "            a[j] = s\n",
    "            \n",
    "print(a)"
   ]
  },
  {
   "cell_type": "code",
   "execution_count": 17,
   "metadata": {},
   "outputs": [
    {
     "name": "stdout",
     "output_type": "stream",
     "text": [
      "5\n"
     ]
    }
   ],
   "source": [
    "arr =[1,2,3,7,4,6]\n",
    "n = 7\n",
    "for i in range(1,n+1):\n",
    "    if i not in arr:\n",
    "        print(i)"
   ]
  },
  {
   "cell_type": "code",
   "execution_count": 34,
   "metadata": {},
   "outputs": [
    {
     "name": "stdout",
     "output_type": "stream",
     "text": [
      "[19, 22, 43, 50]\n"
     ]
    }
   ],
   "source": [
    "r = int(input(\"enter the no of rows in a matrix: \"))\n",
    "c = int(input(\"enter the no of column:\"))\n",
    "def adding(r,c,arr):\n",
    "    for i in range(r):\n",
    "        for j in range(c):\n",
    "            elem = int(input())\n",
    "            arr.append(elem)\n",
    "    return arr\n",
    "arr1 = adding(r,c,[])\n",
    "arr2 = adding(r,c,[])\n",
    "marr =[]\n",
    "p = 0\n",
    "q = 0\n",
    "for i in range(r):\n",
    "    p += arr1[i]*arr2[c*i]\n",
    "    q += arr1[i]*arr2[c*i+1]\n",
    "marr.append(p)\n",
    "marr.append(q)\n",
    "m = 0\n",
    "n = 0\n",
    "for i in range(r):\n",
    "    m +=arr1[i+c]*arr2[c*i]\n",
    "    n +=arr1[i+c]*arr2[c*i+1]\n",
    "marr.append(m)\n",
    "marr.append(n)\n",
    "print(marr)\n"
   ]
  },
  {
   "cell_type": "markdown",
   "metadata": {},
   "source": [
    "# metrix addition"
   ]
  },
  {
   "cell_type": "code",
   "execution_count": 36,
   "metadata": {},
   "outputs": [
    {
     "name": "stdout",
     "output_type": "stream",
     "text": [
      "[1, 2, 3, 4] [5, 6, 7, 8]\n",
      "[6, 8, 10, 12]\n"
     ]
    }
   ],
   "source": [
    "a1 =adding(r,c,[])\n",
    "a2 =adding(r,c,[])\n",
    "ab = []\n",
    "for i in range(r*c):\n",
    "    a =a1[i]+a2[i]\n",
    "    ab.append(a)\n",
    "print(ab)\n"
   ]
  },
  {
   "cell_type": "code",
   "execution_count": 2,
   "metadata": {},
   "outputs": [
    {
     "data": {
      "text/plain": [
       "array([1., 1., 1., 1., 1., 1., 1., 1., 1., 1., 1., 1., 1., 1., 1., 1., 1.,\n",
       "       1., 1., 1., 1., 1., 1., 1., 1., 1., 1., 1., 1., 1., 1., 1., 1., 1.,\n",
       "       1., 1., 1., 1., 1., 1., 1., 1., 1., 1., 1., 1., 1., 1., 1., 1., 1.,\n",
       "       1., 1., 1., 1., 1., 1., 1., 1., 1., 1., 1., 1., 1., 1., 1., 1., 1.,\n",
       "       1., 1., 1., 1., 1., 1., 1., 1., 1., 1., 1., 1., 1., 1., 1., 1., 1.,\n",
       "       1., 1., 1., 1., 1., 1., 1., 1., 1., 1., 1., 1., 1., 1., 1.])"
      ]
     },
     "execution_count": 2,
     "metadata": {},
     "output_type": "execute_result"
    }
   ],
   "source": [
    "import numpy as np\n",
    "np.ones(100)"
   ]
  },
  {
   "cell_type": "code",
   "execution_count": 1,
   "metadata": {},
   "outputs": [],
   "source": [
    "#resturant\n",
    "#customers order (menu items)\n",
    "#collectinng order\n",
    "#billing\n",
    "#print bill\n",
    "#update order\n",
    "#search for an order\n",
    "import random \n",
    "class resturant:\n",
    "    def __init__(self):\n",
    "        self.menu = {\"Rice\":30,\"Idli\":10}\n",
    "        self.orders = {}\n",
    "\n",
    "    def printmenu(self):\n",
    "        print(\"*\"*30)\n",
    "        print(\"the current options are: \")\n",
    "        print(\"*\"*30)\n",
    "        print(self.menu)\n",
    "        print(\"*\"*30)\n",
    "    def generateorderid(self):\n",
    "        orderid = \"\"\n",
    "        for i in range(1,6):\n",
    "            orderid += str(random.randint(i,10))\n",
    "        return orderid\n",
    "\n",
    "\n",
    "    def collectorder(self):\n",
    "        #print menu then ask user to choose collect them and update this then store it to dict\n",
    "        self.printmenu()\n",
    "        phone = input(\"enter your number:\")\n",
    "        order = {}\n",
    "        while True:\n",
    "            item = input(\"enter the item name you want to order:\").strip().title()\n",
    "            qty = int(input(\"enter the quantity of the item:\"))\n",
    "            keys = order.keys()\n",
    "            value = True\n",
    "            for key in keys:\n",
    "                if key == item:\n",
    "                    value = False\n",
    "                    break\n",
    "            if value == False:\n",
    "                order[item] =order[item]+ qty\n",
    "            else:\n",
    "                order[item] = qty\n",
    "            choice =input(\"do you want to stop ordering enter y\").title()\n",
    "            if choice == \"Y\":\n",
    "                break\n",
    "        orderid = self.generateorderid()\n",
    "        self.orders[orderid] = {\n",
    "            \"phone\": phone,\n",
    "            \"order\": order\n",
    "        }\n",
    "        print( self.orders)\n",
    "    def billing(self):\n",
    "        s = 0\n",
    "        orderid = self.orders.keys()\n",
    "        for i in orderid:\n",
    "            items1 = self.orders[i][\"order\"]\n",
    "            items = items1.keys()\n",
    "            for item in items:\n",
    "                s += int(self.menu[item])*int(self.orders[i][\"order\"][item])\n",
    "        print(\"you have to pay total of {} rupees\".format(s))\n",
    "    def updateorder(self):\n",
    "        id = input(\"enter your order id:\")\n",
    "        item = input(\"enter the item you want to add to your order :\").strip().title()\n",
    "        qty = int(input(\"enter the qty you want:\"))\n",
    "        if item in self.orders[id][\"order\"].keys():\n",
    "            self.orders[id][\"order\"][item] += qty\n",
    "        else:\n",
    "            self.orders[id][\"order\"][item] = qty\n",
    "        print(self.orders)\n",
    "    def searchorder(self):\n",
    "        id = input(\"enter order id:\")\n",
    "        print(self.orders[id][\"order\"])\n",
    "\n",
    "\n",
    "\n",
    "\n",
    "\n"
   ]
  },
  {
   "cell_type": "code",
   "execution_count": 3,
   "metadata": {},
   "outputs": [
    {
     "name": "stdout",
     "output_type": "stream",
     "text": [
      "welcome to chopstick!\n",
      "******************************\n",
      "1 for ordering food\n",
      "2 for get bill\n",
      "3 for updating your order\n",
      "4 for search your order\n",
      "5 for stop procedure\n",
      "******************************\n",
      "the current options are: \n",
      "******************************\n",
      "{'Rice': 30, 'Idli': 10}\n",
      "******************************\n",
      "{'10104510': {'phone': '8590887489', 'order': {'Rice': 10, 'Idli': 3}}}\n",
      "welcome to chopstick!\n",
      "******************************\n",
      "1 for ordering food\n",
      "2 for get bill\n",
      "3 for updating your order\n",
      "4 for search your order\n",
      "5 for stop procedure\n",
      "you have to pay total of 330 rupees\n",
      "welcome to chopstick!\n",
      "******************************\n",
      "1 for ordering food\n",
      "2 for get bill\n",
      "3 for updating your order\n",
      "4 for search your order\n",
      "5 for stop procedure\n",
      "{'10104510': {'phone': '8590887489', 'order': {'Rice': 10, 'Idli': 10}}}\n",
      "welcome to chopstick!\n",
      "******************************\n",
      "1 for ordering food\n",
      "2 for get bill\n",
      "3 for updating your order\n",
      "4 for search your order\n",
      "5 for stop procedure\n",
      "{'Rice': 10, 'Idli': 10}\n",
      "welcome to chopstick!\n",
      "******************************\n",
      "1 for ordering food\n",
      "2 for get bill\n",
      "3 for updating your order\n",
      "4 for search your order\n",
      "5 for stop procedure\n",
      "you enterd a wrong option\n",
      "welcome to chopstick!\n",
      "******************************\n",
      "1 for ordering food\n",
      "2 for get bill\n",
      "3 for updating your order\n",
      "4 for search your order\n",
      "5 for stop procedure\n"
     ]
    }
   ],
   "source": [
    "my_order = resturant()\n",
    "while True:\n",
    "    print(\"welcome to chopstick!\")\n",
    "    print(\"*\"*30)\n",
    "    print(\"1 for ordering food\")\n",
    "    print(\"2 for get bill\")\n",
    "    print(\"3 for updating your order\")\n",
    "    print(\"4 for search your order\")\n",
    "    print(\"5 for stop procedure\")\n",
    "\n",
    "    choice = int(input(\"enter your choice:\"))\n",
    "\n",
    "    if choice == 1:\n",
    "        my_order.collectorder()\n",
    "    elif choice == 2:\n",
    "        my_order.billing()\n",
    "    elif choice == 3:\n",
    "        my_order.updateorder()\n",
    "    elif choice == 4:\n",
    "        my_order.searchorder()\n",
    "    elif choice == 5:\n",
    "        break\n",
    "    else:\n",
    "        print(\"you enterd a wrong option\")\n"
   ]
  },
  {
   "cell_type": "code",
   "execution_count": 1,
   "metadata": {},
   "outputs": [
    {
     "name": "stdout",
     "output_type": "stream",
     "text": [
      "<class 'pandas.core.frame.DataFrame'>\n",
      "RangeIndex: 5 entries, 0 to 4\n",
      "Data columns (total 4 columns):\n",
      " #   Column  Non-Null Count  Dtype \n",
      "---  ------  --------------  ----- \n",
      " 0   nikhil  5 non-null      object\n",
      " 1   rice    5 non-null      object\n",
      " 2   2       5 non-null      int64 \n",
      " 3   100     5 non-null      int64 \n",
      "dtypes: int64(2), object(2)\n",
      "memory usage: 292.0+ bytes\n",
      "None\n"
     ]
    }
   ],
   "source": [
    "import pandas as pd\n",
    "df = pd.read_csv(\"orders.csv\")\n",
    "#print(df.describe())\n",
    "print(df.info())"
   ]
  },
  {
   "cell_type": "code",
   "execution_count": 2,
   "metadata": {},
   "outputs": [],
   "source": [
    "hp =pd.read_csv(\"heart_failure_clinical_records_dataset.csv\")"
   ]
  },
  {
   "cell_type": "code",
   "execution_count": 17,
   "metadata": {},
   "outputs": [],
   "source": [
    "#hp.describe()"
   ]
  },
  {
   "cell_type": "code",
   "execution_count": 3,
   "metadata": {},
   "outputs": [
    {
     "name": "stdout",
     "output_type": "stream",
     "text": [
      "263431.60785953177\n"
     ]
    }
   ],
   "source": [
    "new = hp[\"platelets\"].mean()\n",
    "print(new)\n",
    "hp[\"platelets\"].fillna(new,inplace = True)"
   ]
  },
  {
   "cell_type": "code",
   "execution_count": 15,
   "metadata": {},
   "outputs": [],
   "source": [
    "#hp.info()"
   ]
  },
  {
   "cell_type": "code",
   "execution_count": 16,
   "metadata": {},
   "outputs": [],
   "source": [
    "#hp.head(27)"
   ]
  },
  {
   "cell_type": "code",
   "execution_count": 12,
   "metadata": {},
   "outputs": [],
   "source": [
    "#hp[\"age\"].plot(x=\"high_blood_pressure\",y=\"ejection_fraction\",kind =\"bar\")"
   ]
  },
  {
   "cell_type": "code",
   "execution_count": 14,
   "metadata": {},
   "outputs": [],
   "source": [
    "#hp.isna()"
   ]
  },
  {
   "cell_type": "code",
   "execution_count": 23,
   "metadata": {},
   "outputs": [
    {
     "name": "stdout",
     "output_type": "stream",
     "text": [
      "                               age   anaemia  creatinine_phosphokinase  diabetes  ejection_fraction  high_blood_pressure  platelets  serum_creatinine  serum_sodium       sex   smoking      time  DEATH_EVENT\n",
      "age                       1.000000  0.088006                 -0.081584 -0.101012           0.060098             0.093289  -0.052804          0.159187     -0.045966  0.065430  0.018668 -0.224068     0.253729\n",
      "anaemia                   0.088006  1.000000                 -0.190741 -0.012729           0.031557             0.038182  -0.044402          0.052174      0.041882 -0.094769 -0.107290 -0.141414     0.066270\n",
      "creatinine_phosphokinase -0.081584 -0.190741                  1.000000 -0.009639          -0.044080            -0.070590   0.024038         -0.016408      0.059550  0.079791  0.002421 -0.009346     0.062728\n",
      "diabetes                 -0.101012 -0.012729                 -0.009639  1.000000          -0.004850            -0.012732   0.092999         -0.046975     -0.089551 -0.157730 -0.147173  0.033726    -0.001943\n",
      "ejection_fraction         0.060098  0.031557                 -0.044080 -0.004850           1.000000             0.024445   0.073510         -0.011302      0.175902 -0.148386 -0.067315  0.041729    -0.268603\n",
      "high_blood_pressure       0.093289  0.038182                 -0.070590 -0.012732           0.024445             1.000000   0.049365         -0.004935      0.037109 -0.104615 -0.055711 -0.196439     0.079351\n",
      "platelets                -0.052804 -0.044402                  0.024038  0.092999           0.073510             0.049365   1.000000         -0.041594      0.061791 -0.124455  0.027692  0.009453    -0.049613\n",
      "serum_creatinine          0.159187  0.052174                 -0.016408 -0.046975          -0.011302            -0.004935  -0.041594          1.000000     -0.189095  0.006970 -0.027414 -0.149315     0.294278\n",
      "serum_sodium             -0.045966  0.041882                  0.059550 -0.089551           0.175902             0.037109   0.061791         -0.189095      1.000000 -0.027566  0.004813  0.087640    -0.195204\n",
      "sex                       0.065430 -0.094769                  0.079791 -0.157730          -0.148386            -0.104615  -0.124455          0.006970     -0.027566  1.000000  0.445892 -0.015608    -0.004316\n",
      "smoking                   0.018668 -0.107290                  0.002421 -0.147173          -0.067315            -0.055711   0.027692         -0.027414      0.004813  0.445892  1.000000 -0.022839    -0.012623\n",
      "time                     -0.224068 -0.141414                 -0.009346  0.033726           0.041729            -0.196439   0.009453         -0.149315      0.087640 -0.015608 -0.022839  1.000000    -0.526964\n",
      "DEATH_EVENT               0.253729  0.066270                  0.062728 -0.001943          -0.268603             0.079351  -0.049613          0.294278     -0.195204 -0.004316 -0.012623 -0.526964     1.000000\n"
     ]
    }
   ],
   "source": [
    "import pandas as As\n",
    "import numpy as np\n",
    "df =As.read_csv(\"heart_failure_clinical_records_dataset.csv\")\n",
    "df.drop([\"sex\"],axis=1)\n",
    "df.drop([\"diabetes\"],axis=1)\n",
    "new = df.to_csv()"
   ]
  },
  {
   "cell_type": "code",
   "execution_count": 13,
   "metadata": {},
   "outputs": [
    {
     "data": {
      "text/html": [
       "<style>#sk-container-id-1 {color: black;}#sk-container-id-1 pre{padding: 0;}#sk-container-id-1 div.sk-toggleable {background-color: white;}#sk-container-id-1 label.sk-toggleable__label {cursor: pointer;display: block;width: 100%;margin-bottom: 0;padding: 0.3em;box-sizing: border-box;text-align: center;}#sk-container-id-1 label.sk-toggleable__label-arrow:before {content: \"▸\";float: left;margin-right: 0.25em;color: #696969;}#sk-container-id-1 label.sk-toggleable__label-arrow:hover:before {color: black;}#sk-container-id-1 div.sk-estimator:hover label.sk-toggleable__label-arrow:before {color: black;}#sk-container-id-1 div.sk-toggleable__content {max-height: 0;max-width: 0;overflow: hidden;text-align: left;background-color: #f0f8ff;}#sk-container-id-1 div.sk-toggleable__content pre {margin: 0.2em;color: black;border-radius: 0.25em;background-color: #f0f8ff;}#sk-container-id-1 input.sk-toggleable__control:checked~div.sk-toggleable__content {max-height: 200px;max-width: 100%;overflow: auto;}#sk-container-id-1 input.sk-toggleable__control:checked~label.sk-toggleable__label-arrow:before {content: \"▾\";}#sk-container-id-1 div.sk-estimator input.sk-toggleable__control:checked~label.sk-toggleable__label {background-color: #d4ebff;}#sk-container-id-1 div.sk-label input.sk-toggleable__control:checked~label.sk-toggleable__label {background-color: #d4ebff;}#sk-container-id-1 input.sk-hidden--visually {border: 0;clip: rect(1px 1px 1px 1px);clip: rect(1px, 1px, 1px, 1px);height: 1px;margin: -1px;overflow: hidden;padding: 0;position: absolute;width: 1px;}#sk-container-id-1 div.sk-estimator {font-family: monospace;background-color: #f0f8ff;border: 1px dotted black;border-radius: 0.25em;box-sizing: border-box;margin-bottom: 0.5em;}#sk-container-id-1 div.sk-estimator:hover {background-color: #d4ebff;}#sk-container-id-1 div.sk-parallel-item::after {content: \"\";width: 100%;border-bottom: 1px solid gray;flex-grow: 1;}#sk-container-id-1 div.sk-label:hover label.sk-toggleable__label {background-color: #d4ebff;}#sk-container-id-1 div.sk-serial::before {content: \"\";position: absolute;border-left: 1px solid gray;box-sizing: border-box;top: 0;bottom: 0;left: 50%;z-index: 0;}#sk-container-id-1 div.sk-serial {display: flex;flex-direction: column;align-items: center;background-color: white;padding-right: 0.2em;padding-left: 0.2em;position: relative;}#sk-container-id-1 div.sk-item {position: relative;z-index: 1;}#sk-container-id-1 div.sk-parallel {display: flex;align-items: stretch;justify-content: center;background-color: white;position: relative;}#sk-container-id-1 div.sk-item::before, #sk-container-id-1 div.sk-parallel-item::before {content: \"\";position: absolute;border-left: 1px solid gray;box-sizing: border-box;top: 0;bottom: 0;left: 50%;z-index: -1;}#sk-container-id-1 div.sk-parallel-item {display: flex;flex-direction: column;z-index: 1;position: relative;background-color: white;}#sk-container-id-1 div.sk-parallel-item:first-child::after {align-self: flex-end;width: 50%;}#sk-container-id-1 div.sk-parallel-item:last-child::after {align-self: flex-start;width: 50%;}#sk-container-id-1 div.sk-parallel-item:only-child::after {width: 0;}#sk-container-id-1 div.sk-dashed-wrapped {border: 1px dashed gray;margin: 0 0.4em 0.5em 0.4em;box-sizing: border-box;padding-bottom: 0.4em;background-color: white;}#sk-container-id-1 div.sk-label label {font-family: monospace;font-weight: bold;display: inline-block;line-height: 1.2em;}#sk-container-id-1 div.sk-label-container {text-align: center;}#sk-container-id-1 div.sk-container {/* jupyter's `normalize.less` sets `[hidden] { display: none; }` but bootstrap.min.css set `[hidden] { display: none !important; }` so we also need the `!important` here to be able to override the default hidden behavior on the sphinx rendered scikit-learn.org. See: https://github.com/scikit-learn/scikit-learn/issues/21755 */display: inline-block !important;position: relative;}#sk-container-id-1 div.sk-text-repr-fallback {display: none;}</style><div id=\"sk-container-id-1\" class=\"sk-top-container\"><div class=\"sk-text-repr-fallback\"><pre>RandomForestClassifier()</pre><b>In a Jupyter environment, please rerun this cell to show the HTML representation or trust the notebook. <br />On GitHub, the HTML representation is unable to render, please try loading this page with nbviewer.org.</b></div><div class=\"sk-container\" hidden><div class=\"sk-item\"><div class=\"sk-estimator sk-toggleable\"><input class=\"sk-toggleable__control sk-hidden--visually\" id=\"sk-estimator-id-1\" type=\"checkbox\" checked><label for=\"sk-estimator-id-1\" class=\"sk-toggleable__label sk-toggleable__label-arrow\">RandomForestClassifier</label><div class=\"sk-toggleable__content\"><pre>RandomForestClassifier()</pre></div></div></div></div></div>"
      ],
      "text/plain": [
       "RandomForestClassifier()"
      ]
     },
     "execution_count": 13,
     "metadata": {},
     "output_type": "execute_result"
    }
   ],
   "source": [
    "from sklearn.model_selection import train_test_split\n",
    "Y = df[\"DEATH_EVENT\"]\n",
    "X = df.drop([\"DEATH_EVENT\"],axis=1)\n",
    "x_train,x_test,y_train,y_test = train_test_split(X,Y,test_size=.25,random_state=1)\n",
    "from sklearn.ensemble import RandomForestClassifier\n",
    "model = RandomForestClassifier()\n",
    "model.fit(x_train,y_train)\n"
   ]
  },
  {
   "cell_type": "code",
   "execution_count": 14,
   "metadata": {},
   "outputs": [
    {
     "name": "stdout",
     "output_type": "stream",
     "text": [
      "              precision    recall  f1-score   support\n",
      "\n",
      "           0       0.96      0.93      0.95        57\n",
      "           1       0.80      0.89      0.84        18\n",
      "\n",
      "    accuracy                           0.92        75\n",
      "   macro avg       0.88      0.91      0.89        75\n",
      "weighted avg       0.92      0.92      0.92        75\n",
      "\n"
     ]
    }
   ],
   "source": [
    "from sklearn.metrics import classification_report\n",
    "y_pred =model.predict(x_test)\n",
    "result = classification_report(y_pred,y_test)\n",
    "print(result)\n"
   ]
  },
  {
   "cell_type": "code",
   "execution_count": 17,
   "metadata": {},
   "outputs": [
    {
     "name": "stderr",
     "output_type": "stream",
     "text": [
      "c:\\Users\\Admin\\AppData\\Local\\Programs\\Python\\Python311\\Lib\\site-packages\\sklearn\\base.py:465: UserWarning: X does not have valid feature names, but RandomForestClassifier was fitted with feature names\n",
      "  warnings.warn(\n"
     ]
    }
   ],
   "source": [
    "row =[[62,0,231,0,25,1,253000,0.9,140,1,1,10]]\n",
    "prediction =model.predict(row)"
   ]
  },
  {
   "cell_type": "code",
   "execution_count": 18,
   "metadata": {},
   "outputs": [
    {
     "name": "stdout",
     "output_type": "stream",
     "text": [
      "nee thernu..! RIP\n"
     ]
    }
   ],
   "source": [
    "for a in prediction:\n",
    "    if a ==1:\n",
    "        print(\"nee thernu..! RIP\")\n",
    "    else:\n",
    "        print(\"Bhagiyavan chathittilla\")\n",
    "\n"
   ]
  },
  {
   "cell_type": "code",
   "execution_count": 19,
   "metadata": {},
   "outputs": [
    {
     "data": {
      "text/html": [
       "<style>#sk-container-id-2 {color: black;}#sk-container-id-2 pre{padding: 0;}#sk-container-id-2 div.sk-toggleable {background-color: white;}#sk-container-id-2 label.sk-toggleable__label {cursor: pointer;display: block;width: 100%;margin-bottom: 0;padding: 0.3em;box-sizing: border-box;text-align: center;}#sk-container-id-2 label.sk-toggleable__label-arrow:before {content: \"▸\";float: left;margin-right: 0.25em;color: #696969;}#sk-container-id-2 label.sk-toggleable__label-arrow:hover:before {color: black;}#sk-container-id-2 div.sk-estimator:hover label.sk-toggleable__label-arrow:before {color: black;}#sk-container-id-2 div.sk-toggleable__content {max-height: 0;max-width: 0;overflow: hidden;text-align: left;background-color: #f0f8ff;}#sk-container-id-2 div.sk-toggleable__content pre {margin: 0.2em;color: black;border-radius: 0.25em;background-color: #f0f8ff;}#sk-container-id-2 input.sk-toggleable__control:checked~div.sk-toggleable__content {max-height: 200px;max-width: 100%;overflow: auto;}#sk-container-id-2 input.sk-toggleable__control:checked~label.sk-toggleable__label-arrow:before {content: \"▾\";}#sk-container-id-2 div.sk-estimator input.sk-toggleable__control:checked~label.sk-toggleable__label {background-color: #d4ebff;}#sk-container-id-2 div.sk-label input.sk-toggleable__control:checked~label.sk-toggleable__label {background-color: #d4ebff;}#sk-container-id-2 input.sk-hidden--visually {border: 0;clip: rect(1px 1px 1px 1px);clip: rect(1px, 1px, 1px, 1px);height: 1px;margin: -1px;overflow: hidden;padding: 0;position: absolute;width: 1px;}#sk-container-id-2 div.sk-estimator {font-family: monospace;background-color: #f0f8ff;border: 1px dotted black;border-radius: 0.25em;box-sizing: border-box;margin-bottom: 0.5em;}#sk-container-id-2 div.sk-estimator:hover {background-color: #d4ebff;}#sk-container-id-2 div.sk-parallel-item::after {content: \"\";width: 100%;border-bottom: 1px solid gray;flex-grow: 1;}#sk-container-id-2 div.sk-label:hover label.sk-toggleable__label {background-color: #d4ebff;}#sk-container-id-2 div.sk-serial::before {content: \"\";position: absolute;border-left: 1px solid gray;box-sizing: border-box;top: 0;bottom: 0;left: 50%;z-index: 0;}#sk-container-id-2 div.sk-serial {display: flex;flex-direction: column;align-items: center;background-color: white;padding-right: 0.2em;padding-left: 0.2em;position: relative;}#sk-container-id-2 div.sk-item {position: relative;z-index: 1;}#sk-container-id-2 div.sk-parallel {display: flex;align-items: stretch;justify-content: center;background-color: white;position: relative;}#sk-container-id-2 div.sk-item::before, #sk-container-id-2 div.sk-parallel-item::before {content: \"\";position: absolute;border-left: 1px solid gray;box-sizing: border-box;top: 0;bottom: 0;left: 50%;z-index: -1;}#sk-container-id-2 div.sk-parallel-item {display: flex;flex-direction: column;z-index: 1;position: relative;background-color: white;}#sk-container-id-2 div.sk-parallel-item:first-child::after {align-self: flex-end;width: 50%;}#sk-container-id-2 div.sk-parallel-item:last-child::after {align-self: flex-start;width: 50%;}#sk-container-id-2 div.sk-parallel-item:only-child::after {width: 0;}#sk-container-id-2 div.sk-dashed-wrapped {border: 1px dashed gray;margin: 0 0.4em 0.5em 0.4em;box-sizing: border-box;padding-bottom: 0.4em;background-color: white;}#sk-container-id-2 div.sk-label label {font-family: monospace;font-weight: bold;display: inline-block;line-height: 1.2em;}#sk-container-id-2 div.sk-label-container {text-align: center;}#sk-container-id-2 div.sk-container {/* jupyter's `normalize.less` sets `[hidden] { display: none; }` but bootstrap.min.css set `[hidden] { display: none !important; }` so we also need the `!important` here to be able to override the default hidden behavior on the sphinx rendered scikit-learn.org. See: https://github.com/scikit-learn/scikit-learn/issues/21755 */display: inline-block !important;position: relative;}#sk-container-id-2 div.sk-text-repr-fallback {display: none;}</style><div id=\"sk-container-id-2\" class=\"sk-top-container\"><div class=\"sk-text-repr-fallback\"><pre>DecisionTreeClassifier()</pre><b>In a Jupyter environment, please rerun this cell to show the HTML representation or trust the notebook. <br />On GitHub, the HTML representation is unable to render, please try loading this page with nbviewer.org.</b></div><div class=\"sk-container\" hidden><div class=\"sk-item\"><div class=\"sk-estimator sk-toggleable\"><input class=\"sk-toggleable__control sk-hidden--visually\" id=\"sk-estimator-id-2\" type=\"checkbox\" checked><label for=\"sk-estimator-id-2\" class=\"sk-toggleable__label sk-toggleable__label-arrow\">DecisionTreeClassifier</label><div class=\"sk-toggleable__content\"><pre>DecisionTreeClassifier()</pre></div></div></div></div></div>"
      ],
      "text/plain": [
       "DecisionTreeClassifier()"
      ]
     },
     "execution_count": 19,
     "metadata": {},
     "output_type": "execute_result"
    }
   ],
   "source": [
    "from sklearn.model_selection import train_test_split\n",
    "Y = df[\"DEATH_EVENT\"]\n",
    "X = df.drop([\"DEATH_EVENT\"],axis=1)\n",
    "x_train,x_test,y_train,y_test = train_test_split(X,Y,test_size=.25,random_state=1)\n",
    "from sklearn.tree import DecisionTreeClassifier\n",
    "model = DecisionTreeClassifier()\n",
    "model.fit(x_train,y_train)"
   ]
  },
  {
   "cell_type": "code",
   "execution_count": 20,
   "metadata": {},
   "outputs": [
    {
     "name": "stdout",
     "output_type": "stream",
     "text": [
      "              precision    recall  f1-score   support\n",
      "\n",
      "           0       0.89      0.86      0.88        57\n",
      "           1       0.60      0.67      0.63        18\n",
      "\n",
      "    accuracy                           0.81        75\n",
      "   macro avg       0.75      0.76      0.75        75\n",
      "weighted avg       0.82      0.81      0.82        75\n",
      "\n"
     ]
    }
   ],
   "source": [
    "from sklearn.metrics import classification_report\n",
    "y_pred =model.predict(x_test)\n",
    "result = classification_report(y_pred,y_test)\n",
    "print(result)\n"
   ]
  },
  {
   "cell_type": "code",
   "execution_count": 21,
   "metadata": {},
   "outputs": [
    {
     "name": "stdout",
     "output_type": "stream",
     "text": [
      "nee thernu..! RIP\n"
     ]
    },
    {
     "name": "stderr",
     "output_type": "stream",
     "text": [
      "c:\\Users\\Admin\\AppData\\Local\\Programs\\Python\\Python311\\Lib\\site-packages\\sklearn\\base.py:465: UserWarning: X does not have valid feature names, but DecisionTreeClassifier was fitted with feature names\n",
      "  warnings.warn(\n"
     ]
    }
   ],
   "source": [
    "row =[[62,0,231,0,25,1,253000,0.9,140,1,1,10]]\n",
    "prediction =model.predict(row)\n",
    "for a in prediction:\n",
    "    if a ==1:\n",
    "        print(\"nee thernu..! RIP\")\n",
    "    else:\n",
    "        print(\"Bhagiyavan chathittilla\")\n",
    "\n"
   ]
  },
  {
   "cell_type": "code",
   "execution_count": 3,
   "metadata": {},
   "outputs": [
    {
     "name": "stdout",
     "output_type": "stream",
     "text": [
      "<class 'pandas.core.frame.DataFrame'>\n",
      "RangeIndex: 4 entries, 0 to 3\n",
      "Data columns (total 10 columns):\n",
      " #   Column      Non-Null Count  Dtype \n",
      "---  ------      --------------  ----- \n",
      " 0   Unnamed: 0  4 non-null      int64 \n",
      " 1   name        4 non-null      object\n",
      " 2   Age         4 non-null      int64 \n",
      " 3   Sex         4 non-null      object\n",
      " 4   Native      4 non-null      object\n",
      " 5   Native.1    4 non-null      object\n",
      " 6   Native.2    4 non-null      object\n",
      " 7   Native.3    4 non-null      object\n",
      " 8   Native.4    4 non-null      object\n",
      " 9   state       4 non-null      object\n",
      "dtypes: int64(2), object(8)\n",
      "memory usage: 452.0+ bytes\n"
     ]
    }
   ],
   "source": [
    "#load a csv ,set new column names\n",
    "#rename column names (1 column,multiple column)\n",
    "#load a dataset,set one column as index column\n",
    "#split your data into multiple file with respect to rows and column load the differen file and merge them to find the file\n",
    "import pandas as pd\n",
    "df =pd.read_csv(\"christ.csv\")\n",
    "state=[\"kerala\",\"goa\",\"delhi\",\"karnadaka\"]\n",
    "df[\"state\"]=state\n",
    "new_column ={\"name\":\"Names\",\"age\":\"Age\",\"gender\":\"Sex\",\"state\":\"Native\"}\n",
    "df.rename(columns=new_column)\n",
    "#df.rename(columns={\"Names\":\"name\"})\n",
    "df.to_csv(\"christ.csv\",index=False)\n",
    "df = pd.read_csv(\"christ.csv\")\n",
    "df.info()"
   ]
  },
  {
   "cell_type": "code",
   "execution_count": 19,
   "metadata": {},
   "outputs": [],
   "source": [
    "dictry = {\"itemid\":[\"d001\",\"d002\",\"d003\",\"d004\",\"d005\",\"d006\"],\n",
    "          \"item\":[\"rice\",\"dal\",\"onion\",\"tomato\",\"chilli\",\"ginger\"],\n",
    "          \"price\":[\"50\",\"30\",\"20\",\"25\",\"40\",\"10\"],\n",
    "          \"quantity\":[\"5\",\"6\",\"7\",\"9\",\"6\",\"4\"],\n",
    "          \"quality\":[\"good\",\"good\",\"avg\",\"bad\",\"avg\",\"good\"]}\n",
    "import random\n",
    "def create_dataset(dictry,filename,rows):\n",
    "    file = open(filename,\"a+\")\n",
    "    for key in dictry.keys():\n",
    "        file.write(key+\",\")\n",
    "    file.write(\"\\n\")\n",
    "    for j in range(rows):\n",
    "        r = random.randint(0,5)\n",
    "        for i in dictry.values():\n",
    "            file.write(i[r]+\",\")\n",
    "        file.write(\"\\n\")\n",
    "\n",
    "\n",
    "\n",
    "create_dataset(dictry,\"dataset.csv\",5)"
   ]
  },
  {
   "cell_type": "markdown",
   "metadata": {},
   "source": [
    "\n",
    "    #loop for number of rows \n",
    "      #select one value for each key from the dict\n",
    "      #create a row\n",
    "      #open the file\n",
    "      #write the line to the file"
   ]
  },
  {
   "cell_type": "code",
   "execution_count": 2,
   "metadata": {},
   "outputs": [
    {
     "name": "stdout",
     "output_type": "stream",
     "text": [
      "<class 'pandas.core.frame.DataFrame'>\n",
      "RangeIndex: 5 entries, 0 to 4\n",
      "Data columns (total 5 columns):\n",
      " #   Column    Non-Null Count  Dtype \n",
      "---  ------    --------------  ----- \n",
      " 0   itemid    5 non-null      object\n",
      " 1   item      5 non-null      object\n",
      " 2   price     5 non-null      int64 \n",
      " 3   quantity  5 non-null      int64 \n",
      " 4   quality   5 non-null      object\n",
      "dtypes: int64(2), object(3)\n",
      "memory usage: 332.0+ bytes\n"
     ]
    }
   ],
   "source": [
    "import pandas as pd\n",
    "df =pd.read_csv(\"dataset.csv\")\n",
    "df = df.drop([\"Unnamed: 5\"],axis=1)\n",
    "df.info()"
   ]
  },
  {
   "cell_type": "code",
   "execution_count": 3,
   "metadata": {},
   "outputs": [
    {
     "data": {
      "text/html": [
       "<div>\n",
       "<style scoped>\n",
       "    .dataframe tbody tr th:only-of-type {\n",
       "        vertical-align: middle;\n",
       "    }\n",
       "\n",
       "    .dataframe tbody tr th {\n",
       "        vertical-align: top;\n",
       "    }\n",
       "\n",
       "    .dataframe thead th {\n",
       "        text-align: right;\n",
       "    }\n",
       "</style>\n",
       "<table border=\"1\" class=\"dataframe\">\n",
       "  <thead>\n",
       "    <tr style=\"text-align: right;\">\n",
       "      <th></th>\n",
       "      <th>itemid</th>\n",
       "      <th>item</th>\n",
       "      <th>price</th>\n",
       "      <th>quantity</th>\n",
       "      <th>quality</th>\n",
       "    </tr>\n",
       "  </thead>\n",
       "  <tbody>\n",
       "    <tr>\n",
       "      <th>0</th>\n",
       "      <td>d006</td>\n",
       "      <td>ginger</td>\n",
       "      <td>10</td>\n",
       "      <td>4</td>\n",
       "      <td>good</td>\n",
       "    </tr>\n",
       "    <tr>\n",
       "      <th>1</th>\n",
       "      <td>d003</td>\n",
       "      <td>onion</td>\n",
       "      <td>20</td>\n",
       "      <td>7</td>\n",
       "      <td>avg</td>\n",
       "    </tr>\n",
       "    <tr>\n",
       "      <th>2</th>\n",
       "      <td>d006</td>\n",
       "      <td>ginger</td>\n",
       "      <td>10</td>\n",
       "      <td>4</td>\n",
       "      <td>good</td>\n",
       "    </tr>\n",
       "    <tr>\n",
       "      <th>3</th>\n",
       "      <td>d003</td>\n",
       "      <td>onion</td>\n",
       "      <td>20</td>\n",
       "      <td>7</td>\n",
       "      <td>avg</td>\n",
       "    </tr>\n",
       "    <tr>\n",
       "      <th>4</th>\n",
       "      <td>d003</td>\n",
       "      <td>onion</td>\n",
       "      <td>20</td>\n",
       "      <td>7</td>\n",
       "      <td>avg</td>\n",
       "    </tr>\n",
       "  </tbody>\n",
       "</table>\n",
       "</div>"
      ],
      "text/plain": [
       "  itemid    item  price  quantity quality\n",
       "0   d006  ginger     10         4    good\n",
       "1   d003   onion     20         7     avg\n",
       "2   d006  ginger     10         4    good\n",
       "3   d003   onion     20         7     avg\n",
       "4   d003   onion     20         7     avg"
      ]
     },
     "execution_count": 3,
     "metadata": {},
     "output_type": "execute_result"
    }
   ],
   "source": [
    "df.isnull().sum()\n",
    "df.head()"
   ]
  },
  {
   "cell_type": "code",
   "execution_count": 22,
   "metadata": {},
   "outputs": [
    {
     "name": "stdout",
     "output_type": "stream",
     "text": [
      "[1, 2, 4]\n",
      "3\n"
     ]
    }
   ],
   "source": [
    "#user list tharum athil miss aayathu print cheayanam\n",
    "n = int(input(\"enter the limit\"))\n",
    "arr =[]\n",
    "for i in range(n):\n",
    "    a=int(input())\n",
    "    arr.append(a)\n",
    "print(arr)\n",
    "for i in range(1,max(arr)):\n",
    "    if i not in arr:\n",
    "        print(i)"
   ]
  },
  {
   "cell_type": "code",
   "execution_count": null,
   "metadata": {},
   "outputs": [],
   "source": []
  }
 ],
 "metadata": {
  "kernelspec": {
   "display_name": "Python 3",
   "language": "python",
   "name": "python3"
  },
  "language_info": {
   "codemirror_mode": {
    "name": "ipython",
    "version": 3
   },
   "file_extension": ".py",
   "mimetype": "text/x-python",
   "name": "python",
   "nbconvert_exporter": "python",
   "pygments_lexer": "ipython3",
   "version": "3.11.4"
  },
  "orig_nbformat": 4
 },
 "nbformat": 4,
 "nbformat_minor": 2
}
