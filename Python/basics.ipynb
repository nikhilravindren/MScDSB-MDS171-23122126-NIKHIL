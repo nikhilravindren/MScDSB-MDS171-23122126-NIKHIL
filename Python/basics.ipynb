{
 "cells": [
  {
   "cell_type": "code",
   "execution_count": null,
   "metadata": {},
   "outputs": [],
   "source": [
    "a=5\n",
    "if a==5:\n",
    "    print(\"value is five\")\n",
    "elif a==1:\n",
    "    print(\"value is one\")\n",
    "else:\n",
    "    print(\"none\")"
   ]
  },
  {
   "cell_type": "code",
   "execution_count": null,
   "metadata": {},
   "outputs": [],
   "source": [
    "n = int(input(\"enter a number from 1 to 7: \"))\n",
    "if n == 1:\n",
    "    print(\"sunday\")\n",
    "elif n == 2:\n",
    "    print(\"monday\")\n",
    "elif n == 3:\n",
    "    print(\"tuesday\")\n",
    "elif n == 4:\n",
    "    print(\"wednesday\")\n",
    "elif n == 5:\n",
    "    print(\"thursday\")\n",
    "elif n == 6:\n",
    "    print(\"friday\")\n",
    "elif n == 7:\n",
    "    print(\"saturday\")\n",
    "else:\n",
    "    print(\"not a week day\")"
   ]
  },
  {
   "cell_type": "code",
   "execution_count": null,
   "metadata": {},
   "outputs": [],
   "source": [
    "msg = \"this is a message\""
   ]
  },
  {
   "cell_type": "code",
   "execution_count": null,
   "metadata": {},
   "outputs": [],
   "source": [
    "msg[5] #to pick a perticular character in str\n"
   ]
  },
  {
   "cell_type": "code",
   "execution_count": null,
   "metadata": {},
   "outputs": [],
   "source": [
    "print(len(msg))\n",
    "print(len(\"nikhil p r\"))"
   ]
  },
  {
   "cell_type": "code",
   "execution_count": null,
   "metadata": {},
   "outputs": [],
   "source": [
    "for i in msg:\n",
    "    print(i)"
   ]
  },
  {
   "cell_type": "code",
   "execution_count": null,
   "metadata": {},
   "outputs": [],
   "source": [
    "print(msg.upper())\n",
    "print(msg.lower())\n",
    "print(msg.swapcase())\n"
   ]
  },
  {
   "cell_type": "code",
   "execution_count": null,
   "metadata": {},
   "outputs": [],
   "source": [
    "name =\"    nikhil     r  \"\n",
    "print(name)\n",
    "print(len(name))\n",
    "print(len(name.strip()))"
   ]
  },
  {
   "cell_type": "code",
   "execution_count": null,
   "metadata": {},
   "outputs": [],
   "source": [
    "num = \"2,3,4,5,6,7,8\"\n",
    "nos = num.split(',')\n",
    "sum = 0\n",
    "for item in nos:\n",
    "    sum = sum+int(item)\n",
    "    print(sum,type(item),type(sum))\n",
    "    \n",
    "    "
   ]
  },
  {
   "cell_type": "code",
   "execution_count": null,
   "metadata": {},
   "outputs": [],
   "source": [
    "name = input(\"enter name: \")\n",
    "password = input(\"enter the password: \")\n",
    "print(\"your username: {} and password enterd is: {}\".format(name,password))"
   ]
  },
  {
   "cell_type": "code",
   "execution_count": null,
   "metadata": {},
   "outputs": [],
   "source": [
    "n = int(input(\"enter the limit: \"))\n",
    "sum = 0\n",
    "for i in range(2,n+1,2):\n",
    "    sum = sum+i\n",
    "print(sum)\n",
    "      \n",
    "       "
   ]
  },
  {
   "cell_type": "code",
   "execution_count": null,
   "metadata": {},
   "outputs": [],
   "source": [
    "list = [\"abc\",\"d\",23,20.2]\n",
    "print(list)\n",
    "print(list[2])\n",
    "for i in list:\n",
    "    print(i)"
   ]
  },
  {
   "cell_type": "code",
   "execution_count": 1,
   "metadata": {},
   "outputs": [
    {
     "name": "stdout",
     "output_type": "stream",
     "text": [
      "-1\n"
     ]
    }
   ],
   "source": [
    "\n",
    "def binary_check(low,high,x,list):\n",
    "    while low <= high:\n",
    "       mid = low +(high-low)//2\n",
    "       if list[mid] ==x:\n",
    "          return mid\n",
    "       elif list[mid] <x:\n",
    "            low =mid +1\n",
    "       else:\n",
    "            high =mid -1\n",
    "    return -1\n",
    "\n",
    "list =[1,2,3,4,5,6,7]\n",
    "x =32\n",
    "\n",
    "result=binary_check(0,len(list)-1,x,list)\n",
    "print(result)\n",
    "\n",
    "\n",
    "\n",
    "\n"
   ]
  },
  {
   "cell_type": "code",
   "execution_count": 23,
   "metadata": {},
   "outputs": [
    {
     "name": "stdout",
     "output_type": "stream",
     "text": [
      "8\n"
     ]
    }
   ],
   "source": [
    "def binarysearch(arry,x,low,high):\n",
    "    while low <=high:\n",
    "        mid = low+(high-low)//2\n",
    "        if arry[mid] ==x:\n",
    "            return mid\n",
    "        elif arry[mid] <x:\n",
    "            low = mid +1\n",
    "        else:\n",
    "            high = mid -1\n",
    "    return -1 \n",
    "\n",
    "arry = [1,2,3,4,5,6,7,8,9]\n",
    "x = 9\n",
    "\n",
    "result =binarysearch(arry,x,0,len(arry)-1)\n",
    "print(result)\n",
    "\n",
    "\n",
    "\n",
    "\n",
    "    "
   ]
  },
  {
   "cell_type": "code",
   "execution_count": 26,
   "metadata": {},
   "outputs": [
    {
     "name": "stdout",
     "output_type": "stream",
     "text": [
      "four\n"
     ]
    }
   ],
   "source": [
    "list = [\"one\",\"two\" ,\"three\",\"four\"]\n",
    "print(list[3])"
   ]
  },
  {
   "cell_type": "code",
   "execution_count": 32,
   "metadata": {},
   "outputs": [
    {
     "name": "stdout",
     "output_type": "stream",
     "text": [
      "sucsess\n",
      "['four', 'one', 'three', 'two', 'five']\n"
     ]
    }
   ],
   "source": [
    "if \"three\" in list:\n",
    "    print(\"sucsess\")\n",
    "list.append(\"five\")\n",
    "print(list)"
   ]
  },
  {
   "cell_type": "code",
   "execution_count": 33,
   "metadata": {},
   "outputs": [
    {
     "name": "stdout",
     "output_type": "stream",
     "text": [
      "['four', 'one', 'three', 'two']\n"
     ]
    }
   ],
   "source": [
    "list.remove(\"five\")\n",
    "print(list)"
   ]
  },
  {
   "cell_type": "code",
   "execution_count": 34,
   "metadata": {},
   "outputs": [
    {
     "name": "stdout",
     "output_type": "stream",
     "text": [
      "['two', 'three', 'one', 'four']\n"
     ]
    }
   ],
   "source": [
    "list.reverse()\n",
    "print(list)"
   ]
  },
  {
   "cell_type": "code",
   "execution_count": 35,
   "metadata": {},
   "outputs": [
    {
     "name": "stdout",
     "output_type": "stream",
     "text": [
      "i am your first funtion...\n"
     ]
    }
   ],
   "source": [
    "#no return no parameter\n",
    "def function():\n",
    "    print(\"i am your first funtion...\")\n",
    "\n",
    "function()"
   ]
  },
  {
   "cell_type": "code",
   "execution_count": 40,
   "metadata": {},
   "outputs": [
    {
     "name": "stdout",
     "output_type": "stream",
     "text": [
      "succsess\n",
      " True\n"
     ]
    }
   ],
   "source": [
    "#no parameter with return\n",
    "def function2():\n",
    "    a = \"succsess\"\n",
    "    return a,True\n",
    "\n",
    "flag,green = function2()\n",
    "print(flag+\"\\n\",green)"
   ]
  },
  {
   "cell_type": "code",
   "execution_count": 43,
   "metadata": {},
   "outputs": [
    {
     "name": "stdout",
     "output_type": "stream",
     "text": [
      "hello nikhil\n"
     ]
    }
   ],
   "source": [
    "#parameter without return\n",
    "def hello(name):\n",
    "    print(\"hello \"+name)\n",
    "\n",
    "hello(\"nikhil\")\n",
    "    "
   ]
  },
  {
   "cell_type": "code",
   "execution_count": 45,
   "metadata": {},
   "outputs": [
    {
     "data": {
      "text/plain": [
       "'hello nikhil'"
      ]
     },
     "execution_count": 45,
     "metadata": {},
     "output_type": "execute_result"
    }
   ],
   "source": [
    "#parameter with return\n",
    "def hello2(name1):\n",
    "    result =\"hello \" + name1\n",
    "    return result\n",
    "\n",
    "hello2(\"nikhil\")"
   ]
  },
  {
   "cell_type": "code",
   "execution_count": 7,
   "metadata": {},
   "outputs": [],
   "source": [
    "def sum(list):\n",
    "    s = 0\n",
    "    for i in range(0,len(list)):\n",
    "        s = s+int(list[i])\n",
    "    return s\n",
    "\n"
   ]
  },
  {
   "cell_type": "code",
   "execution_count": 4,
   "metadata": {},
   "outputs": [],
   "source": [
    "#list =[1,2,3,4,5]\n",
    "#for i in range(len(list)):\n",
    "    #print(list[i])\n",
    "\n",
    "#for i in list:\n",
    "    #print(i)\n"
   ]
  },
  {
   "cell_type": "code",
   "execution_count": 8,
   "metadata": {},
   "outputs": [
    {
     "name": "stdout",
     "output_type": "stream",
     "text": [
      "20\n"
     ]
    }
   ],
   "source": [
    "userinput = input(\"enter your numbers: \")\n",
    "list =userinput.strip().split(',') \n",
    "\n",
    "result = sum(list)\n",
    "print(result)\n",
    "\n",
    "\n",
    "\n",
    "\n",
    "\n"
   ]
  },
  {
   "cell_type": "code",
   "execution_count": 17,
   "metadata": {},
   "outputs": [
    {
     "name": "stdout",
     "output_type": "stream",
     "text": [
      "no of odds:4 they are ['1', '3', '5', '7']\n",
      "no of evens: 4 they are ['2', '4', '6', '8']\n"
     ]
    }
   ],
   "source": [
    "def count_oddeven(list):\n",
    "    even = 0\n",
    "    odd = 0\n",
    "    evenlist = []\n",
    "    oddlist = []\n",
    "    for i in list:\n",
    "        if int(i)%2 == 0:\n",
    "            even = even+1\n",
    "            evenlist.append(i)\n",
    "        else:\n",
    "            odd = odd+1\n",
    "            oddlist.append(i)\n",
    "    return odd,even,evenlist,oddlist\n",
    "\n",
    "list = input(\"enter your list:\").split(',')\n",
    "odds,evens,elist,olist = count_oddeven(list)\n",
    "print(\"no of odds:{} they are {}\".format(odds,olist))\n",
    "print(\"no of evens: {} they are {}\".format(evens,elist))\n",
    "\n",
    "\n",
    "\n",
    "\n"
   ]
  },
  {
   "cell_type": "code",
   "execution_count": 3,
   "metadata": {},
   "outputs": [
    {
     "name": "stdout",
     "output_type": "stream",
     "text": [
      "0-0\n",
      "1-1\n",
      "2-4\n",
      "3-9\n",
      "4-16\n",
      "5-25\n",
      "6-36\n"
     ]
    }
   ],
   "source": [
    "a = 0\n",
    "while a<7:\n",
    "    result = a*a\n",
    "    print(a,result,sep=\"-\")\n",
    "    a += 1"
   ]
  },
  {
   "cell_type": "code",
   "execution_count": 4,
   "metadata": {},
   "outputs": [
    {
     "name": "stdout",
     "output_type": "stream",
     "text": [
      "0\n",
      "1\n",
      "2\n",
      "3\n",
      "4\n",
      "5\n",
      "6\n",
      "8\n",
      "9\n"
     ]
    }
   ],
   "source": [
    "for i in range(10):\n",
    "    if i == 7:\n",
    "        continue\n",
    "    print(i)"
   ]
  },
  {
   "cell_type": "code",
   "execution_count": 8,
   "metadata": {},
   "outputs": [
    {
     "name": "stdout",
     "output_type": "stream",
     "text": [
      "[1, 2, 3, 4, 1, 2, 3, 7, 8]\n",
      "{1, 2, 3, 4, 7, 8}\n",
      "[1, 2, 3, 4, 7, 8]\n"
     ]
    }
   ],
   "source": [
    "list1 =[1,2,3,4,1,2,3,7,8]\n",
    "set1 =set(list1)\n",
    "back =list(set1)\n",
    "print(list1)\n",
    "print(set1)\n",
    "print(back)"
   ]
  },
  {
   "cell_type": "code",
   "execution_count": 13,
   "metadata": {},
   "outputs": [
    {
     "name": "stdout",
     "output_type": "stream",
     "text": [
      "['N', 'N', 'N', 'J', 'J', 'NA', 'NA', 'MA', 'MA', 'NI']\n",
      "{'MA', 'N', 'NI', 'NA', 'J'}\n"
     ]
    }
   ],
   "source": [
    "list2 = []\n",
    "for i in range(10):\n",
    "    names =input(\"enter your names:\").strip().upper()\n",
    "    list2.append(names)\n",
    "\n",
    "print(list2)\n",
    "sets = set(list2)\n",
    "print(sets)\n",
    "    \n"
   ]
  },
  {
   "cell_type": "code",
   "execution_count": 14,
   "metadata": {},
   "outputs": [
    {
     "name": "stdout",
     "output_type": "stream",
     "text": [
      "MA 2\n",
      "N 3\n",
      "NI 1\n",
      "NA 2\n",
      "J 2\n"
     ]
    }
   ],
   "source": [
    "for search in sets:\n",
    "    count = 0\n",
    "    for i in list2:\n",
    "        if search == i:\n",
    "            count +=1\n",
    "    print(search,count)"
   ]
  },
  {
   "cell_type": "code",
   "execution_count": 1,
   "metadata": {},
   "outputs": [],
   "source": [
    "my_details ={\n",
    "    \"name\":\"nikhil\",\n",
    "    \"phone\":8590887489,\n",
    "    \"email\":\"nikhilravindern01@gmail.com\"\n",
    "}"
   ]
  },
  {
   "cell_type": "code",
   "execution_count": 5,
   "metadata": {},
   "outputs": [
    {
     "name": "stdout",
     "output_type": "stream",
     "text": [
      "{'name': 'nikhil p r', 'phone': 8590887489, 'email': 'nikhilravindern01@gmail.com', 'address': 'chelakkara'}\n"
     ]
    }
   ],
   "source": [
    "my_details[\"name\"] = \"nikhil p r\"\n",
    "my_details[\"address\"] = \"chelakkara\"\n",
    "print(my_details)"
   ]
  },
  {
   "cell_type": "code",
   "execution_count": 7,
   "metadata": {},
   "outputs": [
    {
     "name": "stdout",
     "output_type": "stream",
     "text": [
      "dict_keys(['name', 'phone', 'email', 'address'])\n",
      "dict_values(['nikhil p r', 8590887489, 'nikhilravindern01@gmail.com', 'chelakkara'])\n",
      "name\n",
      "phone\n",
      "email\n",
      "address\n"
     ]
    }
   ],
   "source": [
    "print(my_details.keys())\n",
    "print(my_details.values())\n",
    "for key in my_details.keys():\n",
    "    print(key)"
   ]
  },
  {
   "cell_type": "code",
   "execution_count": 2,
   "metadata": {},
   "outputs": [
    {
     "name": "stdout",
     "output_type": "stream",
     "text": [
      "vrbf 14454\n",
      "rfrttrg 334455\n",
      "thhyf 1334545\n",
      "thuutrf 124555\n"
     ]
    }
   ],
   "source": [
    "\n",
    "\n",
    "students = [\n",
    "    {\n",
    "        \"name\": \"vrbf\",\n",
    "        \"rollnumber\": \"14454\",\n",
    "    },\n",
    "     {\n",
    "        \"name\": \"rfrttrg\",\n",
    "        \"rollnumber\": \"334455\",\n",
    "    },\n",
    "     {\n",
    "        \"name\": \"thhyf\",\n",
    "        \"rollnumber\": \"1334545\",\n",
    "    },\n",
    "     {\n",
    "        \"name\": \"thuutrf\",\n",
    "        \"rollnumber\": \"124555\",\n",
    "    },\n",
    "]\n",
    "\n",
    "for i in students:\n",
    "    print(i[\"name\"],i[\"rollnumber\"])\n",
    "\n"
   ]
  },
  {
   "cell_type": "code",
   "execution_count": 15,
   "metadata": {},
   "outputs": [
    {
     "ename": "TypeError",
     "evalue": "list indices must be integers or slices, not str",
     "output_type": "error",
     "traceback": [
      "\u001b[1;31m---------------------------------------------------------------------------\u001b[0m",
      "\u001b[1;31mTypeError\u001b[0m                                 Traceback (most recent call last)",
      "\u001b[1;32md:\\Python\\basics.ipynb Cell 35\u001b[0m line \u001b[0;36m6\n\u001b[0;32m      <a href='vscode-notebook-cell:/d%3A/Python/basics.ipynb#X46sZmlsZQ%3D%3D?line=0'>1</a>\u001b[0m students \u001b[39m=\u001b[39m{\n\u001b[0;32m      <a href='vscode-notebook-cell:/d%3A/Python/basics.ipynb#X46sZmlsZQ%3D%3D?line=1'>2</a>\u001b[0m     \u001b[39m\"\u001b[39m\u001b[39mnames\u001b[39m\u001b[39m\"\u001b[39m:[\u001b[39m\"\u001b[39m\u001b[39mname1\u001b[39m\u001b[39m\"\u001b[39m,\u001b[39m\"\u001b[39m\u001b[39mname2\u001b[39m\u001b[39m\"\u001b[39m,\u001b[39m\"\u001b[39m\u001b[39mname3\u001b[39m\u001b[39m\"\u001b[39m,\u001b[39m\"\u001b[39m\u001b[39mname4\u001b[39m\u001b[39m\"\u001b[39m,\u001b[39m\"\u001b[39m\u001b[39mname5\u001b[39m\u001b[39m\"\u001b[39m],\n\u001b[0;32m      <a href='vscode-notebook-cell:/d%3A/Python/basics.ipynb#X46sZmlsZQ%3D%3D?line=2'>3</a>\u001b[0m     \u001b[39m\"\u001b[39m\u001b[39mrollnumber\u001b[39m\u001b[39m\"\u001b[39m:[\u001b[39m1\u001b[39m,\u001b[39m2\u001b[39m,\u001b[39m3\u001b[39m,\u001b[39m4\u001b[39m,\u001b[39m5\u001b[39m]\n\u001b[0;32m      <a href='vscode-notebook-cell:/d%3A/Python/basics.ipynb#X46sZmlsZQ%3D%3D?line=3'>4</a>\u001b[0m }\n\u001b[0;32m      <a href='vscode-notebook-cell:/d%3A/Python/basics.ipynb#X46sZmlsZQ%3D%3D?line=4'>5</a>\u001b[0m \u001b[39mfor\u001b[39;00m name \u001b[39min\u001b[39;00m students[\u001b[39m\"\u001b[39m\u001b[39mnames\u001b[39m\u001b[39m\"\u001b[39m]:\n\u001b[1;32m----> <a href='vscode-notebook-cell:/d%3A/Python/basics.ipynb#X46sZmlsZQ%3D%3D?line=5'>6</a>\u001b[0m     \u001b[39mprint\u001b[39m(students[\u001b[39m\"\u001b[39;49m\u001b[39mrollnumber\u001b[39;49m\u001b[39m\"\u001b[39;49m][name])\n",
      "\u001b[1;31mTypeError\u001b[0m: list indices must be integers or slices, not str"
     ]
    }
   ],
   "source": [
    "students ={\n",
    "    \"names\":[\"name1\",\"name2\",\"name3\",\"name4\",\"name5\"],\n",
    "    \"rollnumber\":[1,2,3,4,5]\n",
    "}\n",
    "for name in students[\"names\"]:\n",
    "    print(students[\"rollnumber\"])\n"
   ]
  },
  {
   "cell_type": "code",
   "execution_count": 9,
   "metadata": {},
   "outputs": [],
   "source": [
    "mscds = [\n",
    "    {\n",
    "        \"r.no\":23220001,\n",
    "        \"name\":\"adith\",\n",
    "        \"phone\":123456789\n",
    "    },\n",
    "    {\n",
    "      \"r.no\":23220002,\n",
    "      \"name\":\"amal\",\n",
    "      \"phone\":123456788  \n",
    "    },\n",
    "    {\n",
    "        \"r.no\":23220003,\n",
    "        \"name\":\"abith\",\n",
    "        \"phone\":123456785\n",
    "    }\n",
    "]"
   ]
  },
  {
   "cell_type": "code",
   "execution_count": 13,
   "metadata": {},
   "outputs": [
    {
     "name": "stdout",
     "output_type": "stream",
     "text": [
      "23220001 adith\n",
      "23220002 amal\n",
      "23220003 abith\n"
     ]
    }
   ],
   "source": [
    "for student in mscds:\n",
    "    print(student[\"r.no\"],student[\"name\"])\n",
    "    \n",
    "    #for key in student.keys():\n",
    "        "
   ]
  },
  {
   "cell_type": "code",
   "execution_count": 1,
   "metadata": {},
   "outputs": [
    {
     "name": "stdout",
     "output_type": "stream",
     "text": [
      "1\n",
      "2\n",
      "3\n",
      "4\n",
      "5\n",
      "6\n",
      "7\n",
      "8\n",
      "9\n",
      "10\n"
     ]
    }
   ],
   "source": [
    "a=1\n",
    "while a<=10:\n",
    "    print(a)\n",
    "    a =a+1"
   ]
  },
  {
   "cell_type": "code",
   "execution_count": 4,
   "metadata": {},
   "outputs": [
    {
     "name": "stdout",
     "output_type": "stream",
     "text": [
      "5050\n"
     ]
    }
   ],
   "source": [
    "sum = 0\n",
    "for i in range(101):\n",
    "    sum = sum+i\n",
    "\n",
    "print(sum)"
   ]
  },
  {
   "cell_type": "code",
   "execution_count": 5,
   "metadata": {},
   "outputs": [
    {
     "name": "stdout",
     "output_type": "stream",
     "text": [
      "{'alice': 50, 'bob': 70, 'carol': 80}\n"
     ]
    }
   ],
   "source": [
    "student_grade = {\n",
    "    \"alice\":50,\n",
    "    \"bob\":70,\n",
    "    \"carol\":80\n",
    "}\n",
    "print(student_grade)"
   ]
  },
  {
   "cell_type": "code",
   "execution_count": 9,
   "metadata": {},
   "outputs": [
    {
     "name": "stdout",
     "output_type": "stream",
     "text": [
      "['2', '4', '6', '8']\n"
     ]
    }
   ],
   "source": [
    "a = input(\"enter a list of elements:\").split(\",\")\n",
    "b = list(a)\n",
    "list1 = []\n",
    "for i in b:\n",
    "    if int(i)%2 == 0:\n",
    "        list1.append(i)\n",
    "\n",
    "print(list1)"
   ]
  },
  {
   "cell_type": "code",
   "execution_count": 4,
   "metadata": {},
   "outputs": [
    {
     "name": "stdout",
     "output_type": "stream",
     "text": [
      "['nikhil', 'jeffin', 'naveen', 'fathima']\n"
     ]
    }
   ],
   "source": [
    "a =[]\n",
    "file =open(\"christ.csv\")\n",
    "lines =file.readlines()\n",
    "for line in lines:\n",
    "    tem = line.split(\",\")\n",
    "    i = tem[0]\n",
    "    if i not in a:\n",
    "        a.append(i)\n",
    "print(a)\n"
   ]
  },
  {
   "cell_type": "code",
   "execution_count": 20,
   "metadata": {},
   "outputs": [
    {
     "name": "stdout",
     "output_type": "stream",
     "text": [
      "Pime number\n"
     ]
    }
   ],
   "source": [
    "n= int(input(\"Enter the number: \"))\n",
    "flag = 0\n",
    "for i in range(2,n//2):\n",
    "    if n%i == 0:\n",
    "        flag =1\n",
    "if flag == 1:\n",
    "    print(\"Not a prime number \")\n",
    "elif flag == 0:\n",
    "    print(\"Pime number\")"
   ]
  },
  {
   "cell_type": "code",
   "execution_count": 3,
   "metadata": {},
   "outputs": [
    {
     "name": "stdout",
     "output_type": "stream",
     "text": [
      "name\n",
      "age\n",
      "gender\n"
     ]
    }
   ],
   "source": [
    "dict1 = {\n",
    "    \"name\":\"nikhil\",\n",
    "    \"age\":\"21\",\n",
    "    \"gender\":\"male\"\n",
    "}\n",
    "a = dict1.keys()\n",
    "for i in a:\n",
    "    print(i)"
   ]
  },
  {
   "cell_type": "code",
   "execution_count": null,
   "metadata": {},
   "outputs": [],
   "source": []
  }
 ],
 "metadata": {
  "kernelspec": {
   "display_name": "Python 3",
   "language": "python",
   "name": "python3"
  },
  "language_info": {
   "codemirror_mode": {
    "name": "ipython",
    "version": 3
   },
   "file_extension": ".py",
   "mimetype": "text/x-python",
   "name": "python",
   "nbconvert_exporter": "python",
   "pygments_lexer": "ipython3",
   "version": "3.11.4"
  },
  "orig_nbformat": 4
 },
 "nbformat": 4,
 "nbformat_minor": 2
}
