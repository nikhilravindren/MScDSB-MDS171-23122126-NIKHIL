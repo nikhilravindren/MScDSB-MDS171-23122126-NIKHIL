{
 "cells": [
  {
   "cell_type": "code",
   "execution_count": 2,
   "metadata": {},
   "outputs": [],
   "source": [
    "# take input name,item,quantity.\n",
    "name = input(\"your name : \")\n",
    "item = input(\"what do you want? : \")\n",
    "quantity = input(\"how many quantity in kg? :\")\n",
    "price = input(\"Enter the price\")\n",
    "#define function for create file and add data to them\n",
    "def saveorder(name,item,quantity,price):\n",
    "    with open(\"Grocery Management System.txt\",\"a+\") as file:\n",
    "        file.write(name+\",\"+item+\",\"+quantity+\",\"+price+\"\\n\")\n",
    "        file.write(\"\\n----------------------------------------------------------------------------------------------------------------\\n\")\n",
    "\n",
    "#then call the function\n",
    "\n",
    "saveorder(name,item,quantity,price)"
   ]
  },
  {
   "cell_type": "code",
   "execution_count": 3,
   "metadata": {},
   "outputs": [
    {
     "ename": "NameError",
     "evalue": "name 'file' is not defined",
     "output_type": "error",
     "traceback": [
      "\u001b[1;31m---------------------------------------------------------------------------\u001b[0m",
      "\u001b[1;31mNameError\u001b[0m                                 Traceback (most recent call last)",
      "Cell \u001b[1;32mIn[3], line 1\u001b[0m\n\u001b[1;32m----> 1\u001b[0m lines \u001b[39m=\u001b[39m file\u001b[39m.\u001b[39mreadlines()\n\u001b[0;32m      2\u001b[0m \u001b[39mfor\u001b[39;00m items \u001b[39min\u001b[39;00m line:\n\u001b[0;32m      3\u001b[0m     item_name \u001b[39m=\u001b[39m item\u001b[39m.\u001b[39msplit(\u001b[39m\"\u001b[39m\u001b[39m,\u001b[39m\u001b[39m\"\u001b[39m)\n",
      "\u001b[1;31mNameError\u001b[0m: name 'file' is not defined"
     ]
    }
   ],
   "source": [
    "lines = file.readlines()\n",
    "for items in line:\n",
    "    item_name = item.split(\",\")\n",
    "    \n",
    "\n",
    "print(item_name)\n",
    "\n",
    "\n"
   ]
  },
  {
   "cell_type": "code",
   "execution_count": null,
   "metadata": {},
   "outputs": [],
   "source": [
    "\n"
   ]
  },
  {
   "cell_type": "code",
   "execution_count": null,
   "metadata": {},
   "outputs": [],
   "source": []
  }
 ],
 "metadata": {
  "kernelspec": {
   "display_name": "Python 3",
   "language": "python",
   "name": "python3"
  },
  "language_info": {
   "codemirror_mode": {
    "name": "ipython",
    "version": 3
   },
   "file_extension": ".py",
   "mimetype": "text/x-python",
   "name": "python",
   "nbconvert_exporter": "python",
   "pygments_lexer": "ipython3",
   "version": "3.11.4"
  },
  "orig_nbformat": 4
 },
 "nbformat": 4,
 "nbformat_minor": 2
}
