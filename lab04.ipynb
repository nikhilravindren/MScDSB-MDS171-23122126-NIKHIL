{
 "cells": [
  {
   "cell_type": "code",
   "execution_count": 2,
   "metadata": {},
   "outputs": [],
   "source": [
    "# take input name,item,quantity.\n",
    "name = input(\"your name : \")\n",
    "item = input(\"what do you want? : \")\n",
    "quantity = input(\"how many quantity in kg? :\")\n",
    "price = input(\"Enter the price\")\n",
    "#define function for create file and add data to them\n",
    "def saveorder(name,item,quantity,price):\n",
    "    with open(\"Grocery Management System.csv\",\"w+\") as file:\n",
    "        file.write(name+\",\"+item+\",\"+quantity+\",\"+price+\"\\n\")\n",
    "\n",
    "#then call the function\n",
    "\n",
    "saveorder(name,item,quantity,price)"
   ]
  },
  {
   "cell_type": "code",
   "execution_count": 4,
   "metadata": {},
   "outputs": [
    {
     "name": "stdout",
     "output_type": "stream",
     "text": [
      "['rice']\n",
      "[1]\n"
     ]
    }
   ],
   "source": [
    "#analysis\n",
    "file = open(\"Grocery Management System.csv\",\"r+\")\n",
    "lines = file.readlines()\n",
    "\n",
    "item_name = []\n",
    "item_count = []\n",
    "for item in lines:\n",
    "    a = item.split(\",\") \n",
    "    itemname = a[1]\n",
    "    if itemname in item_name:\n",
    "        inx = item_name.index(itemname)\n",
    "        item_count[inx] += 1\n",
    "    else:\n",
    "        item_name.append(itemname)\n",
    "        item_count.append(1)\n",
    "\n",
    "print(item_name)\n",
    "print(item_count)\n",
    "\n",
    "\n"
   ]
  },
  {
   "cell_type": "code",
   "execution_count": null,
   "metadata": {},
   "outputs": [],
   "source": [
    "\n"
   ]
  },
  {
   "cell_type": "code",
   "execution_count": null,
   "metadata": {},
   "outputs": [],
   "source": []
  }
 ],
 "metadata": {
  "kernelspec": {
   "display_name": "Python 3",
   "language": "python",
   "name": "python3"
  },
  "language_info": {
   "codemirror_mode": {
    "name": "ipython",
    "version": 3
   },
   "file_extension": ".py",
   "mimetype": "text/x-python",
   "name": "python",
   "nbconvert_exporter": "python",
   "pygments_lexer": "ipython3",
   "version": "3.11.4"
  },
  "orig_nbformat": 4
 },
 "nbformat": 4,
 "nbformat_minor": 2
}
