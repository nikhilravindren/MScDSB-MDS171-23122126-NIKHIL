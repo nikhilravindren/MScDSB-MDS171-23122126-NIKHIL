{
 "cells": [
  {
   "cell_type": "code",
   "execution_count": 33,
   "metadata": {},
   "outputs": [],
   "source": [
    "# take input name,item,quantity.\n",
    "name = input(\"your name : \")\n",
    "item = input(\"what do you want? : \")\n",
    "quantity = input(\"how many quantity in kg? :\")\n",
    "price = input(\"Enter the price\")\n",
    "#define function for create file and add data to them\n",
    "def saveorder(name,item,quantity,price):\n",
    "    with open(\"Grocery Management System.txt\",\"a+\") as file:\n",
    "        file.write(\"\\nname\\t:\\t\"+name)\n",
    "        file.write(\"\\nitem\\t:\\t\"+item)\n",
    "        file.write(\"\\nquantity:\\t\"+quantity+\"kg\")\n",
    "        file.write(\"\\nprice\\t:\\t\"+price)\n",
    "        file.write(\"\\n----------------------------------------------------------------------------------------------------------------\")\n",
    "\n",
    "#then call the function\n",
    "\n",
    "saveorder(name,item,quantity,price)"
   ]
  },
  {
   "cell_type": "code",
   "execution_count": 45,
   "metadata": {},
   "outputs": [
    {
     "name": "stdout",
     "output_type": "stream",
     "text": [
      "['1', '2', '3', '4', '5', '1', '2', '3', '4', '5']\n"
     ]
    },
    {
     "ename": "TypeError",
     "evalue": "'builtin_function_or_method' object is not subscriptable",
     "output_type": "error",
     "traceback": [
      "\u001b[1;31m---------------------------------------------------------------------------\u001b[0m",
      "\u001b[1;31mTypeError\u001b[0m                                 Traceback (most recent call last)",
      "Cell \u001b[1;32mIn[45], line 13\u001b[0m\n\u001b[0;32m     10\u001b[0m                 \u001b[39mlist\u001b[39m\u001b[39m.\u001b[39mappend[count]\n\u001b[0;32m     11\u001b[0m    \u001b[39mreturn\u001b[39;00m \u001b[39mmax\u001b[39m(\u001b[39mlist\u001b[39m)\n\u001b[1;32m---> 13\u001b[0m mostfrequent(items)\n",
      "Cell \u001b[1;32mIn[45], line 10\u001b[0m, in \u001b[0;36mmostfrequent\u001b[1;34m(items)\u001b[0m\n\u001b[0;32m      8\u001b[0m          \u001b[39mif\u001b[39;00m items[i] \u001b[39m==\u001b[39m items[j]:\n\u001b[0;32m      9\u001b[0m              count \u001b[39m=\u001b[39m count\u001b[39m+\u001b[39m\u001b[39m1\u001b[39m\n\u001b[1;32m---> 10\u001b[0m              \u001b[39mlist\u001b[39;49m\u001b[39m.\u001b[39;49mappend[count]\n\u001b[0;32m     11\u001b[0m \u001b[39mreturn\u001b[39;00m \u001b[39mmax\u001b[39m(\u001b[39mlist\u001b[39m)\n",
      "\u001b[1;31mTypeError\u001b[0m: 'builtin_function_or_method' object is not subscriptable"
     ]
    }
   ],
   "source": [
    " items = input(\"items :\").split(\",\")\n",
    " print(items)\n",
    " def mostfrequent(items):\n",
    "    list = []\n",
    "    for i in range(len(items)-1):\n",
    "        count = 1\n",
    "        for j in range(i+1,len(items)-1):\n",
    "             if items[i] == items[j]:\n",
    "                 count = count+1\n",
    "                 list.append[count]\n",
    "    return max(list)\n",
    "\n",
    "mostfrequent(items)\n",
    "    \n",
    "\n",
    "\n"
   ]
  },
  {
   "cell_type": "code",
   "execution_count": null,
   "metadata": {},
   "outputs": [],
   "source": [
    "\n"
   ]
  },
  {
   "cell_type": "code",
   "execution_count": null,
   "metadata": {},
   "outputs": [],
   "source": []
  }
 ],
 "metadata": {
  "kernelspec": {
   "display_name": "Python 3",
   "language": "python",
   "name": "python3"
  },
  "language_info": {
   "codemirror_mode": {
    "name": "ipython",
    "version": 3
   },
   "file_extension": ".py",
   "mimetype": "text/x-python",
   "name": "python",
   "nbconvert_exporter": "python",
   "pygments_lexer": "ipython3",
   "version": "3.11.4"
  },
  "orig_nbformat": 4
 },
 "nbformat": 4,
 "nbformat_minor": 2
}
