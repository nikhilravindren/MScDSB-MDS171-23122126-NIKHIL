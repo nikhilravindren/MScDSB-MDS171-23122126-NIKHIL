{
 "cells": [
  {
   "cell_type": "code",
   "execution_count": 25,
   "metadata": {},
   "outputs": [
    {
     "name": "stdout",
     "output_type": "stream",
     "text": [
      "100\n",
      "[17, 40, 57, 89, 95, 123, 124, 126, 127, 137, 162, 172, 179, 182, 194, 195, 207, 214, 223, 235, 256, 267, 275, 300, 305, 317, 318, 320, 321, 338, 343, 346, 379, 391, 401, 402, 406, 430, 437, 460, 470, 478, 485, 492, 502, 511, 514, 559, 561, 568, 580, 585, 595, 600, 611, 614, 615, 622, 624, 629, 653, 663, 678, 682, 687, 688, 691, 708, 725, 739, 751, 752, 761, 763, 767, 786, 786, 787, 811, 819, 823, 825, 840, 852, 857, 888, 890, 911, 919, 934, 948, 948, 961, 966, 970, 978, 984, 987, 992, 999]\n",
      "542.94\n",
      "999\n",
      "17\n",
      "982\n"
     ]
    }
   ],
   "source": [
    "list =[761, 123, 585, 275, 194, 840, 999, 622, 763, 40, 825, 687, 402, 338, 611, 987, 739, 95, 819, 568, 320, 126, 688, 948, 514, 223, 751, 379, 857, 767, 492, 162, 437, 934, 430, 343, 725, 511, 580, 678, 708, 823, 346, 179, 786, 663, 195, 890, 267, 502, 214, 300, 786, 961, 235, 559, 992, 919, 948, 318, 57, 787, 653, 317, 305, 172, 966, 182, 970, 17, 89, 624, 629, 595, 485, 752, 984, 978, 460, 124, 321, 256, 614, 852, 811, 561, 127, 207, 406, 615, 888, 391, 691, 470, 911, 401, 137, 600, 478, 682]\n",
    "def lenght(list):\n",
    "    count = 0\n",
    "    for i in list:\n",
    "        count = count + 1\n",
    "    return count\n",
    "\n",
    "print(lenght(list))\n",
    "def sorting(list):\n",
    "    slist = []\n",
    "    for i in range(0,lenght(list)):\n",
    "        for j in range(i+1,lenght(list)):\n",
    "            if list[i] >= list[j]:\n",
    "               tem = list[i]\n",
    "               list[i] = list[j]\n",
    "               list[j] = tem\n",
    "        slist.append(list[i])\n",
    "            \n",
    "    return slist\n",
    "\n",
    "print(sorting(list))\n",
    "            \n",
    "\n",
    "def mean(list):\n",
    "    s = 0\n",
    "    for i in range(lenght(list)):\n",
    "        s = s +list[i]\n",
    "    mean1 = s/(lenght(list))\n",
    "    return mean1\n",
    "print(mean(list))\n",
    "\n",
    "def maximum(list):\n",
    "    m = sorting(list)\n",
    "    max = m[lenght(list)-1]\n",
    "    return max\n",
    "print(maximum(list))\n",
    "\n",
    "def minimum(list):\n",
    "    m = sorting(list)\n",
    "    min =m[0]\n",
    "    return min\n",
    "print(minimum(list))\n",
    "\n",
    "def rangevalue(list):\n",
    "    a = maximum(list)\n",
    "    b = minimum(list)\n",
    "    return a-b\n",
    "\n",
    "print(rangevalue(list))\n",
    " \n",
    "\n",
    "                \n",
    "\n",
    "\n",
    "    "
   ]
  },
  {
   "cell_type": "code",
   "execution_count": null,
   "metadata": {},
   "outputs": [],
   "source": []
  }
 ],
 "metadata": {
  "kernelspec": {
   "display_name": "Python 3",
   "language": "python",
   "name": "python3"
  },
  "language_info": {
   "codemirror_mode": {
    "name": "ipython",
    "version": 3
   },
   "file_extension": ".py",
   "mimetype": "text/x-python",
   "name": "python",
   "nbconvert_exporter": "python",
   "pygments_lexer": "ipython3",
   "version": "3.11.4"
  },
  "orig_nbformat": 4
 },
 "nbformat": 4,
 "nbformat_minor": 2
}
