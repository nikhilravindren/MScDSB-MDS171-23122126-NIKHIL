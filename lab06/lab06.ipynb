{
 "cells": [
  {
   "cell_type": "code",
   "execution_count": 53,
   "metadata": {},
   "outputs": [
    {
     "name": "stdout",
     "output_type": "stream",
     "text": [
      "['2', '5', '9', '8', '9', '4', '4', '1', '10', '2', '6', '6', '2', '9', '1', '5', '9', '1', '4', '1', '8', '2', '9', '4', '3', '4', '2', '6', '2', '3', '6', '3', '3', '10', '9', '9', '2', '10', '1', '1', '9', '3', '3', '7', '2', '5', '4', '2', '10', '5', '7', '7', '10', '9', '9', '2', '9', '4', '5', '1', '8', '7', '8', '9', '6', '1', '10', '10', '8', '10', '7', '1', '9', '6', '2', '3', '8', '9', '3', '7', '8', '3', '9', '8', '8', '8', '3', '3', '3', '9', '2', '8', '1', '6', '10', '2', '10', '4', '6', '8']\n",
      "['10', '30', '80', '40', '40', '50', '70', '20', '90', '60', '80', '30', '30', '70', '70', '30', '90', '40', '70', '20', '80', '70', '50', '100', '80', '60', '60', '40', '70', '20', '80', '60', '100', '40', '100', '40', '60', '70', '50', '50', '90', '10', '60', '60', '40', '80', '20', '60', '70', '30', '90', '50', '70', '80', '20', '70', '20', '90', '50', '20', '10', '40', '20', '90', '80', '30', '30', '60', '70', '20', '20', '60', '50', '30', '50', '40', '60', '40', '50', '90', '90', '30', '50', '50', '10', '80', '90', '100', '50', '20', '90', '40', '70', '10', '20', '10', '60', '30', '70', '10']\n",
      "[20, 150, 720, 320, 360, 200, 280, 20, 900, 120, 480, 180, 60, 630, 70, 150, 810, 40, 280, 20, 640, 140, 450, 400, 240, 240, 120, 240, 140, 60, 480, 180, 300, 400, 900, 360, 120, 700, 50, 50, 810, 30, 180, 420, 80, 400, 80, 120, 700, 150, 630, 350, 700, 720, 180, 140, 180, 360, 250, 20, 80, 280, 160, 810, 480, 30, 300, 600, 560, 200, 140, 60, 450, 180, 100, 120, 480, 360, 150, 630, 720, 90, 450, 400, 80, 640, 270, 300, 150, 180, 180, 320, 70, 60, 200, 20, 600, 120, 420, 80]\n",
      "['ragi', 'rice', 'beans', 'egg', 'chana', 'chiken', 'wheat', 'fish', 'dal', 'matton']\n"
     ]
    }
   ],
   "source": [
    "items = [\"rice\",\"dal\",\"egg\",\"chiken\",\"wheat\",\"matton\",\"fish\",\"ragi\",\"chana\",\"beans\"]\n",
    "quantity = [1,2,3,4,5,6,7,8,9,10]\n",
    "prices = [10,20,30,40,50,60,70,80,90,100]\n",
    "totel1 = []\n",
    "\n",
    "import random\n",
    "\n",
    "def addvalues(items,quantity,prices):\n",
    "    with open(\"23122126.csv\",\"w+\") as file:\n",
    "        for i in range(0,100):\n",
    "            r1 = random.randint(0,9)\n",
    "            r2 = random.randint(0,9)\n",
    "            r3 = random.randint(0,9)\n",
    "            r4 = quantity[r2]*prices[r3]\n",
    "            totel1.append(r4)\n",
    "            file.write(items[r1]+\",\"+str(quantity[r2])+\",\"+str(prices[r3])+\",\"+str(r4)+\"\\n\")\n",
    "\n",
    "addvalues(items,quantity,prices)\n",
    "\n",
    "file = open(\"23122126.csv\",\"r+\")\n",
    "lines = file.readlines()\n",
    "\n",
    "\n",
    "quantity1 = []\n",
    "prices1 = []\n",
    "\n",
    "for item in lines:\n",
    "    tem =item.split(\",\")\n",
    "    q = tem[1]\n",
    "    p = tem[2]\n",
    "    prices1.append(p.strip())\n",
    "    quantity1.append(q)\n",
    "\n",
    "print(quantity1)\n",
    "print(prices1)\n",
    "print(totel1)\n",
    "\n",
    "items1 =[]\n",
    "for item in lines:\n",
    "    tem2 = item.split(\",\")\n",
    "    i = tem2[0]\n",
    "    if i not in items1:\n",
    "        items1.append(i)\n",
    "print(items1)\n",
    "\n",
    "# def totel_cost(lines,items1,cost):\n",
    "#     totel =0\n",
    "#     for line in lines:\n",
    "#         for u in items1:\n",
    "#             tem3 =line.split(\",\")\n",
    "#             i = tem3[0]\n",
    "#             if i == u:\n",
    "#                 totel = totel +int(cost[int(line)])\n",
    "\n",
    "#     print(totel)\n",
    "\n",
    "# totel_cost(lines,items1,cost)\n",
    "\n",
    "\n",
    "\n",
    "\n",
    "\n",
    "\n",
    "\n",
    "\n",
    "\n",
    "\n"
   ]
  },
  {
   "cell_type": "code",
   "execution_count": null,
   "metadata": {},
   "outputs": [],
   "source": []
  }
 ],
 "metadata": {
  "kernelspec": {
   "display_name": "Python 3",
   "language": "python",
   "name": "python3"
  },
  "language_info": {
   "codemirror_mode": {
    "name": "ipython",
    "version": 3
   },
   "file_extension": ".py",
   "mimetype": "text/x-python",
   "name": "python",
   "nbconvert_exporter": "python",
   "pygments_lexer": "ipython3",
   "version": "3.11.4"
  },
  "orig_nbformat": 4
 },
 "nbformat": 4,
 "nbformat_minor": 2
}
